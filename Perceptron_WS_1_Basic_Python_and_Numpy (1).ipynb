{
  "nbformat": 4,
  "nbformat_minor": 0,
  "metadata": {
    "colab": {
      "name": "Perceptron WS 1 - Basic Python and Numpy.ipynb",
      "provenance": [],
      "collapsed_sections": [
        "1CXgWCf-Uc_2",
        "d2HCgasrVZN_",
        "hlP1w2KkXAxS",
        "p6bTRbxcbVvA",
        "deo1g78getp9",
        "jje0WxChfdjy",
        "ED2PY-9oxOHL",
        "GUfJzelb1LaV",
        "edREY5eVRx5C",
        "ViENLyQpaBNi",
        "jJgUKc69wYM5",
        "m0IWgCo_0zrY",
        "kMeie14R8Xqj",
        "cp_KnLWWCIR-",
        "Pp5hwt0KItud",
        "fxomPyJuSKVm",
        "R7jP36yvOYdI",
        "2RrF-lScQ_k2",
        "iw08-N5-UIkG",
        "AlW5djBwVXgE",
        "PUpvGm_aYpKL",
        "3nsfG3nLZ98X",
        "2eDqc7QaoOo_",
        "Cb3BAT1Wppw9",
        "9pDAIIIgqXsS",
        "zWS-uGHXrH_w",
        "M1eVNIWzsBVS",
        "Lk3VfCAwsyrF",
        "v0LXBcQKuYzl",
        "Kvz2KFRYvPTW",
        "XnUHN3cswEc9",
        "mZpOXPldm8jL",
        "0-jrf-DJm8jM",
        "SJbiBq-zm8jN",
        "54cLWLS4m8jR",
        "kwdZ-n82m8jU",
        "_g4Y-dI9m8jU",
        "cbLwObA4m8jW",
        "4FgamGhkm8jX",
        "lOJHtHuEm8jY",
        "JyNaRqYNpnv4",
        "KaEmrjtTpnv7",
        "e3btqWQ6pnv9",
        "tQIcuPgupnwA",
        "pfAA0t-JpnwD",
        "t49BRyKVrOoi",
        "GefFpn9-rOoj",
        "gz4ivFi0rOoo",
        "DWNiOW15rtdL",
        "2Ibbs6utrtdU",
        "owkwpDXK0agN",
        "aJjx1QeD0agW"
      ]
    },
    "kernelspec": {
      "name": "python3",
      "display_name": "Python 3"
    },
    "language_info": {
      "name": "python"
    }
  },
  "cells": [
    {
      "cell_type": "markdown",
      "source": [
        "# **Introduction to Python.**\n",
        "Topics\n",
        "- Input, Output\n",
        "- Loops, If else\n",
        "- Lists \n",
        "- Sets \n",
        "- Tuples\n",
        "- Dictionary\n",
        "- Numpy \n",
        "\n",
        "Cuarted By Abhijit Paul (Core Team Member- MOSS)"
      ],
      "metadata": {
        "id": "1CXgWCf-Uc_2"
      }
    },
    {
      "cell_type": "markdown",
      "source": [
        "## **Input**"
      ],
      "metadata": {
        "id": "d2HCgasrVZN_"
      }
    },
    {
      "cell_type": "markdown",
      "source": [
        "We often have a need to interact with users, either to get data or to provide some sort of result. Most programs today use a dialog box as a way of asking the user to provide some type of input. While Python 3 provides us with inbuilt functions to read the input from the keyboard.\n",
        "\n"
      ],
      "metadata": {
        "id": "RkeZJTZtWl-4"
      }
    },
    {
      "cell_type": "markdown",
      "source": [
        "###input ('prompt') \n",
        "- This function first takes the input from the user and then evaluates the expression, which means Python automatically identifies whether user entered a string or a number or list. If the input provided is not correct then either syntax error or exception is raised by python.\n"
      ],
      "metadata": {
        "id": "hlP1w2KkXAxS"
      }
    },
    {
      "cell_type": "code",
      "execution_count": null,
      "metadata": {
        "id": "BJmzsOhlUSSF"
      },
      "outputs": [],
      "source": [
        "# Example of input function."
      ]
    },
    {
      "cell_type": "code",
      "source": [
        "x = input('Enter the value: ')\n"
      ],
      "metadata": {
        "id": "AvXipKN0XkjW"
      },
      "execution_count": null,
      "outputs": []
    },
    {
      "cell_type": "markdown",
      "source": [
        "###How the input function works in Python :\n",
        "\n",
        "- When input() function executes program flow will be stopped until the user has given an input.\n",
        "- The text or message display on the output screen to ask a user to enter input value is optional i.e. the prompt, will be printed on the screen is optional.\n",
        "- Whatever you enter as input, input function convert it into a string. if you enter an integer value still input() function convert it into a string."
      ],
      "metadata": {
        "id": "iiplTdENZCwq"
      }
    },
    {
      "cell_type": "markdown",
      "source": [
        "##**Output**"
      ],
      "metadata": {
        "id": "p6bTRbxcbVvA"
      }
    },
    {
      "cell_type": "markdown",
      "source": [
        "- Python print() function prints the message to the screen or any other standard output device.\n",
        "\n",
        "**Syntax**\n"
      ],
      "metadata": {
        "id": "MGW6VAzXblua"
      }
    },
    {
      "cell_type": "code",
      "source": [
        "print(value(s))\n",
        "\n",
        "# value(s): Any value, and as many as you like. Will be converted to string before printed"
      ],
      "metadata": {
        "id": "ePJ2h9nYS3N2"
      },
      "execution_count": null,
      "outputs": []
    },
    {
      "cell_type": "markdown",
      "source": [
        "**Example**"
      ],
      "metadata": {
        "id": "RfjRFB7kTvJ_"
      }
    },
    {
      "cell_type": "code",
      "source": [
        "# The above input value of x will be printed by print() function."
      ],
      "metadata": {
        "id": "V1-wEjaYcKxL"
      },
      "execution_count": null,
      "outputs": []
    },
    {
      "cell_type": "code",
      "source": [
        "print(x)"
      ],
      "metadata": {
        "id": "uasowS0ucg7v"
      },
      "execution_count": null,
      "outputs": []
    },
    {
      "cell_type": "markdown",
      "source": [
        "##**Loops**\n",
        "\n",
        "Python mainly consists of two type of loops\n",
        "1. while loop\n",
        "2. for loop"
      ],
      "metadata": {
        "id": "deo1g78getp9"
      }
    },
    {
      "cell_type": "markdown",
      "source": [
        "### 1. While Loop: \n",
        "- In python, while loop is used to execute a block of statements repeatedly until a given condition is satisfied. And when the condition becomes false, the line immediately after the loop in the program is executed."
      ],
      "metadata": {
        "id": "jje0WxChfdjy"
      }
    },
    {
      "cell_type": "markdown",
      "source": [
        "- Syntax :\n",
        " \n",
        "\n",
        "\n",
        "\n"
      ],
      "metadata": {
        "id": "Nax1oBQ2gEhr"
      }
    },
    {
      "cell_type": "code",
      "source": [
        "while expression:\n",
        "  statement(s)\n",
        "\n",
        "# code will run till expression is true"
      ],
      "metadata": {
        "id": "pMK_KFtmSb7R"
      },
      "execution_count": null,
      "outputs": []
    },
    {
      "cell_type": "markdown",
      "source": [
        "- All the statements indented by the same number of character spaces after a while keyword are considered to be part of a single block of code. Python uses indentation as its method of grouping statements. "
      ],
      "metadata": {
        "id": "hV4RkxipipvF"
      }
    },
    {
      "cell_type": "markdown",
      "source": [
        "**The following code will run till the expression becomes false**\n",
        "\n"
      ],
      "metadata": {
        "id": "UJD2rvJmvlT6"
      }
    },
    {
      "cell_type": "code",
      "source": [
        "x = 0 \n",
        "while x < 3:\n",
        "  print('Namaste') "
      ],
      "metadata": {
        "id": "Ol4ajf8rji46"
      },
      "execution_count": null,
      "outputs": []
    },
    {
      "cell_type": "markdown",
      "source": [
        "**The above code is an infinite loop i.e it will run forever till your devices runs out of memory or power.**\n",
        "**So, we need to add a condition.**"
      ],
      "metadata": {
        "id": "nIpck1lUvzKB"
      }
    },
    {
      "cell_type": "code",
      "source": [
        "x = 0\n",
        "while x < 3:\n",
        "  x = x + 1\n",
        "  print('Namaste')"
      ],
      "metadata": {
        "id": "cmnMztH-uroj"
      },
      "execution_count": null,
      "outputs": []
    },
    {
      "cell_type": "markdown",
      "source": [
        "**Therefore the above code run till x = 2, after that the expression becomes false and it comes out of the loop. As the value of x increase every time the loop runs.**"
      ],
      "metadata": {
        "id": "jPx0j7sIwdQZ"
      }
    },
    {
      "cell_type": "markdown",
      "source": [
        "###2. For loop"
      ],
      "metadata": {
        "id": "ED2PY-9oxOHL"
      }
    },
    {
      "cell_type": "markdown",
      "source": [
        "-  For loops are used for sequential traversal. For example: traversing a list or string or array etc"
      ],
      "metadata": {
        "id": "I83MRwAIxaoB"
      }
    },
    {
      "cell_type": "markdown",
      "source": [
        "- Syntax:\n",
        "\n",
        "\n",
        " \n"
      ],
      "metadata": {
        "id": "tlA3soMnxvFe"
      }
    },
    {
      "cell_type": "code",
      "source": [
        "for iterator_var in sequence:\n",
        "  statements(s)"
      ],
      "metadata": {
        "id": "i-KfV3mHUDEf"
      },
      "execution_count": null,
      "outputs": []
    },
    {
      "cell_type": "markdown",
      "source": [
        "- It can be used to iterate over a range and iterators."
      ],
      "metadata": {
        "id": "wRdQ8nlCUNfd"
      }
    },
    {
      "cell_type": "markdown",
      "source": [
        "**The following code will show the use of for loop till the condition is false**"
      ],
      "metadata": {
        "id": "tm4S5WZuyqPw"
      }
    },
    {
      "cell_type": "code",
      "source": [
        "n = 4\n",
        "for i in range(0, 4):\n",
        "  print(i)"
      ],
      "metadata": {
        "id": "RP_tb1tvy-0z"
      },
      "execution_count": null,
      "outputs": []
    },
    {
      "cell_type": "markdown",
      "source": [
        "**We can also write the following code without providing the first value as by default it is zero(0)**"
      ],
      "metadata": {
        "id": "RXNRQkK1zNsi"
      }
    },
    {
      "cell_type": "code",
      "source": [
        "for i in range(4):\n",
        "  print(i)"
      ],
      "metadata": {
        "id": "5dsbIly7z1Be"
      },
      "execution_count": null,
      "outputs": []
    },
    {
      "cell_type": "markdown",
      "source": [
        "##**If else**\n",
        "\n",
        "1. if statement\n",
        "2. if-else statement\n",
        "3. if-elif-else statement\n",
        "\n"
      ],
      "metadata": {
        "id": "GUfJzelb1LaV"
      }
    },
    {
      "cell_type": "markdown",
      "source": [
        "There comes situations in real life when we need to make some decisions and based on these decisions, we decide what should we do next. Similar situations arise in programming also where we need to make some decisions and based on these decisions we will execute the next block of code. Decision-making statements in programming languages decide the direction of the flow of program execution. \n",
        "\n",
        "In Python, if else elif statement is used for decision making."
      ],
      "metadata": {
        "id": "FyGkTmZxRibm"
      }
    },
    {
      "cell_type": "markdown",
      "source": [
        "###1. if statement"
      ],
      "metadata": {
        "id": "edREY5eVRx5C"
      }
    },
    {
      "cell_type": "markdown",
      "source": [
        "- if statement is the most simple decision-making statement. It is used to decide whether a certain statement or block of statements will be executed or not i.e if a certain condition is true then a block of statement is executed otherwise not."
      ],
      "metadata": {
        "id": "Mvpiu2dYR_Jp"
      }
    },
    {
      "cell_type": "markdown",
      "source": [
        "**Syntax**: \n",
        "\n"
      ],
      "metadata": {
        "id": "lZORZM5ISGS4"
      }
    },
    {
      "cell_type": "code",
      "source": [
        "if condition:\n",
        "   # Statements to execute if condition is true"
      ],
      "metadata": {
        "id": "_RwluW2pSMWc"
      },
      "execution_count": null,
      "outputs": []
    },
    {
      "cell_type": "markdown",
      "source": [
        "- Here, the condition after evaluation will be either true or false. if statement accepts boolean values – if the value is true then it will execute the block of statements below it otherwise not."
      ],
      "metadata": {
        "id": "N6p2-DNAUtod"
      }
    },
    {
      "cell_type": "markdown",
      "source": [
        "**As we know, python uses indentation to identify a block. So the block under an if statement will be identified as shown in the below example:**  "
      ],
      "metadata": {
        "id": "UI3MdJhzU8HV"
      }
    },
    {
      "cell_type": "code",
      "source": [
        "if condition:\n",
        "   statement1\n",
        "statement2\n",
        "\n",
        "# Here if the condition is true, if block will consider only statement1 to be inside its block."
      ],
      "metadata": {
        "id": "D783J-cOVH2f"
      },
      "execution_count": null,
      "outputs": []
    },
    {
      "cell_type": "markdown",
      "source": [
        "**Example: Python if Statement**"
      ],
      "metadata": {
        "id": "kmd2E0cHY5dc"
      }
    },
    {
      "cell_type": "code",
      "source": [
        "i = 10\n",
        "\n",
        "if (i > 15):\n",
        "\tprint(\"10 is less than 15\")\n",
        "print(\"I am Not in if\")\n"
      ],
      "metadata": {
        "id": "EPilTX7cZAVM"
      },
      "execution_count": null,
      "outputs": []
    },
    {
      "cell_type": "markdown",
      "source": [
        "- As the condition present in the if statement is false. So, the block below the if statement is not executed."
      ],
      "metadata": {
        "id": "qEnJRawZZdY3"
      }
    },
    {
      "cell_type": "markdown",
      "source": [
        "###2. if-else statement\n",
        "\n"
      ],
      "metadata": {
        "id": "ViENLyQpaBNi"
      }
    },
    {
      "cell_type": "markdown",
      "source": [
        "- The if statement alone tells us that if a condition is true it will execute a block of statements and if the condition is false it won’t. But what if we want to do something else if the condition is false. Here comes the else statement. We can use the else statement with if statement to execute a block of code when the condition is false. "
      ],
      "metadata": {
        "id": "dVZa8WKEfLUA"
      }
    },
    {
      "cell_type": "markdown",
      "source": [
        "**Syntax:**"
      ],
      "metadata": {
        "id": "k4PyNDqrfRj2"
      }
    },
    {
      "cell_type": "code",
      "source": [
        "if (condition):\n",
        "    # Executes this block if condition is true\n",
        "else:\n",
        "    # Executes this block if condition is false"
      ],
      "metadata": {
        "id": "aqfMwrOYfWWL"
      },
      "execution_count": null,
      "outputs": []
    },
    {
      "cell_type": "markdown",
      "source": [
        "Example: Python if else statement"
      ],
      "metadata": {
        "id": "qbIdAmw_gjo9"
      }
    },
    {
      "cell_type": "code",
      "source": [
        "i = 20\n",
        "if (i < 15):\n",
        "    print(\"I is smaller than 15\")\n",
        "    print(\"I'm in if Block\")\n",
        "else:\n",
        "    print(\"I is greater than 15\")\n",
        "    print(\"I'm in else Block\")"
      ],
      "metadata": {
        "id": "Of8_WpETgq-0"
      },
      "execution_count": null,
      "outputs": []
    },
    {
      "cell_type": "markdown",
      "source": [
        "The block of code following the else statement is executed as the condition present in the if statement is false"
      ],
      "metadata": {
        "id": "-nBak9rsuayi"
      }
    },
    {
      "cell_type": "markdown",
      "source": [
        "###3. if-elif-else statement"
      ],
      "metadata": {
        "id": "WtXOvZ63u-jw"
      }
    },
    {
      "cell_type": "markdown",
      "source": [
        "- Here, a user can decide among multiple options. The if statements are executed from the top down. As soon as one of the conditions controlling the if is true, the statement associated with that if is executed, and the rest of the ladder is bypassed. If none of the conditions is true, then the final else statement will be executed."
      ],
      "metadata": {
        "id": "sBMKI3X2vJqx"
      }
    },
    {
      "cell_type": "markdown",
      "source": [
        "**Syntax:**"
      ],
      "metadata": {
        "id": "mOPKuP2ovYKq"
      }
    },
    {
      "cell_type": "code",
      "source": [
        "if (condition):\n",
        "    statement\n",
        "elif (condition):\n",
        "    statement\n",
        "else:\n",
        "    statement"
      ],
      "metadata": {
        "id": "RGi2hHxzvgnB"
      },
      "execution_count": null,
      "outputs": []
    },
    {
      "cell_type": "markdown",
      "source": [
        "**Example: Python if else elif statements**"
      ],
      "metadata": {
        "id": "y8aXAcJOv2Aq"
      }
    },
    {
      "cell_type": "code",
      "source": [
        "i = 20\n",
        "if (i == 10):\n",
        "    print(\"i is 10\")\n",
        "elif (i == 15):\n",
        "    print(\"i is 15\")\n",
        "elif (i == 20):\n",
        "    print(\"i is 20\")\n",
        "else:\n",
        "    print(\"i is not present\")"
      ],
      "metadata": {
        "id": "BCbilOWGv8Lh"
      },
      "execution_count": null,
      "outputs": []
    },
    {
      "cell_type": "markdown",
      "source": [
        "##**Lists**\n",
        "- Lists are data types, they need not be homogeneous always. A single list may contain DataTypes like Integers, Strings, as well as Objects. Lists are mutable, and hence, they can be altered even after their creation.\n",
        "- List in Python are ordered and have a definite count. The elements in a list are indexed according to a definite sequence and the indexing of a list is done with 0 being the first index. Each element in the list has its definite place in the list, which allows duplicating of elements in the list, with each element having its own distinct place and credibility."
      ],
      "metadata": {
        "id": "jJgUKc69wYM5"
      }
    },
    {
      "cell_type": "markdown",
      "source": [
        "###Creating a List\n",
        "- Lists in Python can be created by just placing the sequence inside the square brackets[ ]. "
      ],
      "metadata": {
        "id": "m0IWgCo_0zrY"
      }
    },
    {
      "cell_type": "code",
      "source": [
        "# Python program to demonstrate Creation of List\n",
        "# Creating a List\n",
        "List = []\n",
        "print(\"Blank List: \")\n",
        "print(List,\"\\n\")\n",
        "\n",
        "# Creating a List of numbers\n",
        "List = [10, 20, 14]\n",
        "print(\"List of numbers: \")\n",
        "print(List,\"\\n\")\n",
        "\n",
        "# Creating a List of strings and accessing\n",
        "# using index\n",
        "List = [\"Manipal\", \"Institute\", \"of\",\"Technology\"]\n",
        "print(\"List Items: \",\"\\n\")\n",
        "print(List[0])\n",
        "print(List[1])\n",
        "print(List[3])"
      ],
      "metadata": {
        "id": "mJhMKp1k1PDG"
      },
      "execution_count": null,
      "outputs": []
    },
    {
      "cell_type": "markdown",
      "source": [
        "- A list may contain duplicate values with their distinct positions and hence, multiple distinct or duplicate values can be passed as a sequence at the time of list creation."
      ],
      "metadata": {
        "id": "ebYnrGCb7C_D"
      }
    },
    {
      "cell_type": "code",
      "source": [
        "# Creating a List with the use of Numbers (Having duplicate values)\n",
        "List = [1, 2, 4, 4, 3, 3, 3, 6, 5]\n",
        "print(\"List with the use of Numbers: \")\n",
        "print(List,\"\\n\")\n",
        "\n",
        "# Creating a List with mixed type of values (Having numbers and strings)\n",
        "List = [1, 2, 'Geeks', 4, 'For', 6, 'Geeks']\n",
        "print(\"List with the use of Mixed Values: \")\n",
        "print(List)\n"
      ],
      "metadata": {
        "id": "wK5w0pHi7IzM"
      },
      "execution_count": null,
      "outputs": []
    },
    {
      "cell_type": "markdown",
      "source": [
        "**Knowing the size of List**\n",
        "- len() is a build-in function which can be used to determine the length of a list.\n",
        "\n"
      ],
      "metadata": {
        "id": "NegV2k4j7t9S"
      }
    },
    {
      "cell_type": "code",
      "source": [
        "List = [10, 20, 14]\n",
        "print(len(List))"
      ],
      "metadata": {
        "id": "L9BdzXQ8703V"
      },
      "execution_count": null,
      "outputs": []
    },
    {
      "cell_type": "markdown",
      "source": [
        "###Adding Elements to a List\n",
        "1. append() method.\n",
        "2. insert() method.\n",
        "3. extend() method.\n",
        "\n"
      ],
      "metadata": {
        "id": "kMeie14R8Xqj"
      }
    },
    {
      "cell_type": "markdown",
      "source": [
        "**1. Using append() method**\n",
        "-  Elements can be added to the List by using the built-in append() function. Only one element at a time can be added to the list by using the append() method, for the addition of multiple elements with the append() method, loops are used."
      ],
      "metadata": {
        "id": "-pfts6er92aP"
      }
    },
    {
      "cell_type": "code",
      "source": [
        "# Python program to demonstrate Addition of elements in a List\n",
        "# Creating a List\n",
        "List = []\n",
        "print(\"Initial blank List: \")\n",
        "print(List)\n",
        "# Addition of Elements in the List\n",
        "List.append(1)\n",
        "List.append(2)\n",
        "List.append(4)\n",
        "print(\"List after Addition of Three elements: \")\n",
        "print(List)\n",
        "# Adding elements to the List using Iterator\n",
        "for i in range(1, 4):\n",
        "\tList.append(i)\n",
        "print(\"List after Addition of elements from 1-3: \")\n",
        "print(List)\n",
        "# Addition of List to a List\n",
        "List2 = ['Messi', 'Ronaldo']\n",
        "List.append(List2)\n",
        "print(\"List after Addition of a List: \")\n",
        "print(List)\n"
      ],
      "metadata": {
        "id": "fGnmGPXu88ur"
      },
      "execution_count": null,
      "outputs": []
    },
    {
      "cell_type": "markdown",
      "source": [
        "**2. Using insert() method**\n",
        "- append() method only works for the addition of elements at the end of the List, for the addition of elements at the desired position, insert() method is used. Unlike append() which takes only one argument, the insert() method requires two arguments(position, value). "
      ],
      "metadata": {
        "id": "_M-iL0kH-hjE"
      }
    },
    {
      "cell_type": "markdown",
      "source": [
        "**Syntax:**\n",
        "- insert(position,value)."
      ],
      "metadata": {
        "id": "yvqoesaH-_Eg"
      }
    },
    {
      "cell_type": "code",
      "source": [
        "# Python program to demonstrate addition of elements in a List\n",
        "# Creating a List\n",
        "List = [1,2,3,4]\n",
        "print(\"Initial List: \")\n",
        "print(List)\n",
        "# Addition of Element at specific Position (using Insert Method)\n",
        "List.insert(3, 12)\n",
        "List.insert(0, 'Python')\n",
        "print(\"List after performing Insert Operation: \")\n",
        "print(List)\n"
      ],
      "metadata": {
        "id": "vD-B-2F--0Hh"
      },
      "execution_count": null,
      "outputs": []
    },
    {
      "cell_type": "markdown",
      "source": [
        "**3. Using extend() method**\n",
        "- Other than append() and insert() methods, there’s one more method for the Addition of elements, extend(), this method is used to add multiple elements at the same time at the end of the list.\n",
        "\n",
        "- Note:\n",
        " - append() and extend() methods can only add elements at the end.\n",
        " - insert() can add element at any desired position."
      ],
      "metadata": {
        "id": "aMq29Y7z_sJp"
      }
    },
    {
      "cell_type": "code",
      "source": [
        "# Python program to demonstrate addition of elements in a List\n",
        "# Creating a List\n",
        "List = [1, 2, 3, 4]\n",
        "print(\"Initial List: \")\n",
        "print(List)\n",
        "# Addition of multiple elements to the List at the end (using Extend Method)\n",
        "List.extend([8, 'Abc', 'Def'])\n",
        "print(\"List after performing Extend Operation: \")\n",
        "print(List)\n"
      ],
      "metadata": {
        "id": "aK6DZgTXAkt3"
      },
      "execution_count": null,
      "outputs": []
    },
    {
      "cell_type": "markdown",
      "source": [
        "###Accessing elements from the List\n",
        "- In order to access the list items refer to the index number. Use the index operator [ ] to access an item in a list. The index must be an integer. Nested lists are accessed using nested indexing. "
      ],
      "metadata": {
        "id": "cp_KnLWWCIR-"
      }
    },
    {
      "cell_type": "markdown",
      "source": [
        "**Syntax:** for accessing nested or multi-dimension list.\n",
        "- list[ To access the nested/Multi-Dimensional list] [ To access the element inside the nested/Multi-Dimensional list ]"
      ],
      "metadata": {
        "id": "lmxRZsctDk2X"
      }
    },
    {
      "cell_type": "code",
      "source": [
        "# Python program to demonstrate accessing of element from list\n",
        "# Creating a List with the use of multiple values\n",
        "List = [\"Abc\", \"Def\", \"Xyz\"]\n",
        "\n",
        "# Accessing a element from the list using index number\n",
        "print(\"Accessing a element from the list\")\n",
        "print(List[0])\n",
        "print(List[2])\n",
        "\n",
        "# Creating a Multi-Dimensional List (By Nesting a list inside a List)\n",
        "list =[[1,2,3],[4,5,6],[7,8,9]]\n",
        "print(\"Accessing the first Multi-Dimensional list\")\n",
        "print(list[0]) \n",
        "print(\"Accessing the second Multi-Dimensional list\")\n",
        "print(list[1])\n",
        "print(\"Accessing the second element of the third Multi-Dimensional list\")\n",
        "print(list[2][1])\n",
        "\n"
      ],
      "metadata": {
        "id": "5NGKY1i2CsA8"
      },
      "execution_count": null,
      "outputs": []
    },
    {
      "cell_type": "markdown",
      "source": [
        "**Negative indexing**\n",
        "- In Python, negative sequence indexes represent positions from the end of the list. Instead of having to compute the offset as in List[len(List)-3], it is enough to just write List[-3]. Negative indexing means beginning from the end, -1 refers to the last item, -2 refers to the second-last item, etc."
      ],
      "metadata": {
        "id": "4soYACV-Hqr_"
      }
    },
    {
      "cell_type": "code",
      "source": [
        "List = [1, 2, 'Abc', 4, 'Def', 6, 'Xyz']\n",
        "\n",
        "# Accessing an element using negative indexing\n",
        "print(\"Accessing element using negative indexing\")\n",
        "\n",
        "# print the last element of list\n",
        "print(List[-1])\n",
        "\n",
        "# print the third last element of list\n",
        "print(List[-3])\n"
      ],
      "metadata": {
        "id": "r-2XjnsXIRFP"
      },
      "execution_count": null,
      "outputs": []
    },
    {
      "cell_type": "markdown",
      "source": [
        "###Removing Elements from the List\n",
        "1. Using remove() method.\n",
        "2. Using pop() method."
      ],
      "metadata": {
        "id": "Pp5hwt0KItud"
      }
    },
    {
      "cell_type": "markdown",
      "source": [
        "**1. Using remove() method.**\n",
        "- Elements can be removed from the List by using the built-in remove() function but an Error arises if the element doesn’t exist in the list. Remove() method only removes one element at a time, to remove a range of elements, the iterator is used. The remove() method removes the specified item."
      ],
      "metadata": {
        "id": "MSaPNxsOJFW8"
      }
    },
    {
      "cell_type": "code",
      "source": [
        "# Python program to demonstrate removal of elements in a List\n",
        "# Creating a List\n",
        "List = [1, 2, 3, 4, 5, 6, 7, 8, 9, 10, 11, 12]\n",
        "print(\"Initial List: \")\n",
        "print(List)\n",
        "\n",
        "# Removing elements from List using Remove() method\n",
        "List.remove(5)\n",
        "List.remove(6)\n",
        "print(\"List after Removal of two elements: \")\n",
        "print(List)\n",
        "\n",
        "# Removing elements from List using iterator method\n",
        "for i in range(1, 5):\n",
        "\tList.remove(i)\n",
        "print(\"List after Removing a range of elements: \")\n",
        "print(List)\n"
      ],
      "metadata": {
        "id": "w6oN_GVzJkeM"
      },
      "execution_count": null,
      "outputs": []
    },
    {
      "cell_type": "markdown",
      "source": [
        "**2. Using pop() method**\n",
        "- Pop() function can also be used to remove and return an element from the list, but by default it removes only the last element of the list, to remove an element from a specific position of the List, the index of the element is passed as an argument to the pop() method."
      ],
      "metadata": {
        "id": "gWGpWz9SNlta"
      }
    },
    {
      "cell_type": "code",
      "source": [
        "List = [1,2,3,4,5]\n",
        "\n",
        "# Removing element from the list using the pop() method\n",
        "List.pop()\n",
        "print(\"List after popping an element: \")\n",
        "print(List)\n",
        "\n",
        "# Removing element at a specific location from the list using the pop() method\n",
        "List.pop(2) \n",
        "print(\"\\nList after popping a specific element: \")\n",
        "print(List)\n"
      ],
      "metadata": {
        "id": "PX01WPYsN8em"
      },
      "execution_count": null,
      "outputs": []
    },
    {
      "cell_type": "markdown",
      "source": [
        "###Slicing of a List\n",
        "- In Python List, there are multiple ways to print the whole List with all the elements, but to print a specific range of elements from the list, we use the Slice operation. Slice operation is performed on Lists with the use of a colon( : ). To print elements from beginning to a range use [ : Index ], to print elements from end-use [ : -Index ], to print elements from specific Index till the end use [ Index: ], to print elements within a range, use [ Start Index : End Index ] and to print the whole List with the use of slicing operation, use [ : ]. Further, to print the whole List in reverse order, use [ : : -1 ]."
      ],
      "metadata": {
        "id": "iGU0eTP5OeK0"
      }
    },
    {
      "cell_type": "code",
      "source": [
        "# Python program to demonstrate removal of elements in a List\n",
        "# Creating a List\n",
        "List = ['A', 'B', 'C', 'D', 'E', 'F','G', 'H', 'I', 'J', 'K', 'L', 'M']\n",
        "print(\"Initial List: \")\n",
        "print(List,\"\\n\")\n",
        "\n",
        "# Print elements of a range using Slice operation\n",
        "Sliced_List = List[3:8]\n",
        "print(\"Slicing elements in a range 3-8: \")\n",
        "print(Sliced_List,\"\\n\")\n",
        "\n",
        "# Print elements from a\n",
        "# pre-defined point to end\n",
        "Sliced_List = List[5:]\n",
        "print(\"Elements sliced from 5th element till the end: \")\n",
        "print(Sliced_List,\"\\n\")\n",
        "\n",
        "# Printing elements from\n",
        "# beginning till end\n",
        "Sliced_List = List[:]\n",
        "print(\"Printing all elements using slice operation: \")\n",
        "print(Sliced_List,\"\\n\")\n"
      ],
      "metadata": {
        "id": "6yTo9zvXQXvi"
      },
      "execution_count": null,
      "outputs": []
    },
    {
      "cell_type": "markdown",
      "source": [
        "**Negative index List slicing**"
      ],
      "metadata": {
        "id": "bjN9s-obRA_D"
      }
    },
    {
      "cell_type": "code",
      "source": [
        "# Creating a List\n",
        "List = ['A', 'B', 'C', 'D', 'E', 'F',\t'G', 'H', 'I', 'J', 'K', 'L', 'M']\n",
        "print(\"Initial List: \")\n",
        "print(List,\"\\n\")\n",
        "\n",
        "# Print elements from beginning\n",
        "# to a pre-defined point using Slice\n",
        "Sliced_List = List[:-6]\n",
        "print(\"Elements sliced till 6th element from last: \")\n",
        "print(Sliced_List,\"\\n\")\n",
        "\n",
        "# Print elements of a range\n",
        "# using negative index List slicing\n",
        "Sliced_List = List[-6:-1]\n",
        "print(\"Elements sliced from index -6 to -1\")\n",
        "print(Sliced_List,\"\\n\")\n",
        "\n",
        "# Printing elements in reverse\n",
        "# using Slice operation\n",
        "Sliced_List = List[::-1]\n",
        "print(\"Printing List in reverse: \")\n",
        "print(Sliced_List,\"\\n\")\n"
      ],
      "metadata": {
        "id": "yOi_QP3mRF79"
      },
      "execution_count": null,
      "outputs": []
    },
    {
      "cell_type": "markdown",
      "source": [
        "##**Sets**\n",
        "- In Python, Set is an unordered collection of data type that is iterable, mutable and has no duplicate elements. The order of elements in a set is undefined though it may consist of various elements. \n",
        "- The major advantage of using a set, as opposed to a list, is that it has a highly optimized method for checking whether a specific element is contained in the set."
      ],
      "metadata": {
        "id": "fxomPyJuSKVm"
      }
    },
    {
      "cell_type": "markdown",
      "source": [
        "###Creating a Set\n",
        "- Sets can be created by using the built-in set( ) function with an iterable object or a sequence by placing the sequence inside curly braces, separated by ‘comma’."
      ],
      "metadata": {
        "id": "R7jP36yvOYdI"
      }
    },
    {
      "cell_type": "code",
      "source": [
        "# Python program to demonstrate creation of Set in Python\n",
        "# Creating a Set\n",
        "set1 = set()\n",
        "print(\"Initial blank Set: \")\n",
        "print(set1,\"\\n\")\n",
        "\n",
        "# Creating a Set with the use of a String\n",
        "set1 = set(\"ABCDEFGHIJKLM\")\n",
        "print(\"Set with the use of String: \")\n",
        "print(set1,\"\\n\")\n",
        "\n",
        "# Creating a Set with the use of a List\n",
        "set1 = set([\"Abc\", \"Def\", \"Xyz\"])\n",
        "print(\"Set with the use of List: \")\n",
        "print(set1)\n"
      ],
      "metadata": {
        "id": "vj_OaPnMOvJh"
      },
      "execution_count": null,
      "outputs": []
    },
    {
      "cell_type": "markdown",
      "source": [
        "- A set contains only unique elements but at the time of set creation, multiple duplicate values can also be passed. Order of elements in a set is undefined and is unchangeable. Type of elements in a set need not be the same, various mixed up data type values can also be passed to the set. "
      ],
      "metadata": {
        "id": "k1zQxM8sQRxK"
      }
    },
    {
      "cell_type": "code",
      "source": [
        "# Creating a Set with a List of Numbers (Having duplicate values)\n",
        "set1 = set([1, 2, 4, 4, 3, 3, 3, 6, 5])\n",
        "print(\"Set with the use of Numbers: \")\n",
        "print(set1,\"\\n\")\n",
        "\n",
        "# Creating a Set with a mixed type of values (Having numbers and strings)\n",
        "set1 = set([1, 2, 'Abc', 4, 'Def', 6, 'Xyz'])\n",
        "print(\"Set with the use of Mixed Values\")\n",
        "print(set1)\n"
      ],
      "metadata": {
        "id": "X11D6_dNQa8G"
      },
      "execution_count": null,
      "outputs": []
    },
    {
      "cell_type": "markdown",
      "source": [
        "###Adding Elements to a Set\n",
        "1. Using add() method\n",
        "2. Using update() method"
      ],
      "metadata": {
        "id": "2RrF-lScQ_k2"
      }
    },
    {
      "cell_type": "markdown",
      "source": [
        "**1. Using add() method**\n",
        "- Elements can be added to the Set by using built-in add() function. Only one element at a time can be added to the set by using add() method, loops are used to add multiple elements at a time with the use of add() method."
      ],
      "metadata": {
        "id": "qahVc0fBRWyJ"
      }
    },
    {
      "cell_type": "code",
      "source": [
        "# Python program to demonstrate addition of elements in a Set\n",
        "# Creating a Set\n",
        "set1 = set()\n",
        "print(\"Initial blank Set: \")\n",
        "print(set1,\"\\n\")\n",
        "\n",
        "# Adding element and tuple to the Set\n",
        "set1.add(8)\n",
        "set1.add(9)\n",
        "print(\"Set after Addition of Three elements: \")\n",
        "print(set1,\"\\n\")\n",
        "\n",
        "# Adding elements to the Set using Iterator\n",
        "for i in range(1, 6):\n",
        "\tset1.add(i)\n",
        "print(\"Set after Addition of elements from 1-5: \")\n",
        "print(set1)\n"
      ],
      "metadata": {
        "id": "N37DVGzZRqeY"
      },
      "execution_count": null,
      "outputs": []
    },
    {
      "cell_type": "markdown",
      "source": [
        "**2. Using update() method**\n",
        "- For addition of two or more elements Update() method is used. The update() method accepts lists, strings, tuples as well as other sets as its arguments. In all of these cases, duplicate elements are avoided."
      ],
      "metadata": {
        "id": "DGJ1CV-fSKuZ"
      }
    },
    {
      "cell_type": "code",
      "source": [
        "# Python program to demonstrate addition of elements in a Set\n",
        "\n",
        "# Addition of elements to the Set using Update function\n",
        "set1 = set([ 4, 5, (6, 7)])\n",
        "set1.update([10, 11])\n",
        "print(\"Set after Addition of elements using Update: \")\n",
        "print(set1)\n"
      ],
      "metadata": {
        "id": "IBSzYfAfSksY"
      },
      "execution_count": null,
      "outputs": []
    },
    {
      "cell_type": "markdown",
      "source": [
        "###Accessing a Set\n",
        "- Set items cannot be accessed by referring to an index, since sets are unordered the items has no index. But you can loop through the set items using a for loop, or ask if a specified value is present in a set, by using the in keyword."
      ],
      "metadata": {
        "id": "iw08-N5-UIkG"
      }
    },
    {
      "cell_type": "code",
      "source": [
        "# Python program to demonstrate accessing of elements in a set\n",
        "# Creating a set\n",
        "set1 = set([\"Abc\", \"Def\", \"Xyz\"])\n",
        "print(\"Initial set\")\n",
        "print(set1,\"\\n\")\n",
        "\n",
        "# Accessing element using for loop\n",
        "print(\"Elements of set: \")\n",
        "for i in set1:\n",
        "\tprint(i,\"\\n\", end=\"\")\n",
        "\n",
        "# Checking the element using in keyword\n",
        "print(\"\\nIs Xyz present in the set: \")\n",
        "print(\"Xyz\" in set1)\n"
      ],
      "metadata": {
        "id": "QKPI0CPfUYnn"
      },
      "execution_count": null,
      "outputs": []
    },
    {
      "cell_type": "markdown",
      "source": [
        "###Removing elements from the Set\n",
        "1. Using remove() method or discard() method\n",
        "2. Using pop() method\n",
        "3. Using clear() method"
      ],
      "metadata": {
        "id": "AlW5djBwVXgE"
      }
    },
    {
      "cell_type": "markdown",
      "source": [
        "**1. Using remove() method or discard() method**\n",
        "- Elements can be removed from the Set by using built-in remove() function but a KeyError arises if element doesn’t exist in the set. To remove elements from a set without KeyError, use discard(), if the element doesn’t exist in the set, it remains unchanged."
      ],
      "metadata": {
        "id": "JdSCwwWfWUQ5"
      }
    },
    {
      "cell_type": "code",
      "source": [
        "# Python program to demonstrate  deletion of elements in a Set\n",
        "# Creating a Set\n",
        "set1 = set([1, 2, 3, 4, 5, 6, 7, 8, 9, 10, 11, 12])\n",
        "print(\"Initial Set: \")\n",
        "print(set1,\"\\n\")\n",
        "  \n",
        "# Removing elements from Set using Remove() method\n",
        "set1.remove(5)\n",
        "set1.remove(6)\n",
        "print(\"Set after Removal of two elements: \")\n",
        "print(set1,\"\\n\")\n",
        "  \n",
        "# Removing elements from Set using Discard() method\n",
        "set1.discard(8)\n",
        "set1.discard(9)\n",
        "print(\"Set after Discarding two elements: \")\n",
        "print(set1,\"\\n\")\n",
        "  \n",
        "print(\"Removing elements from Set using iterator method\")\n",
        "for i in range(1, 5):\n",
        "    set1.remove(i)\n",
        "print(\"Set after Removing a range of elements: \")\n",
        "print(set1)"
      ],
      "metadata": {
        "id": "nJA12BDWWuHp"
      },
      "execution_count": null,
      "outputs": []
    },
    {
      "cell_type": "markdown",
      "source": [
        "**2. Using pop() method**\n",
        "- Pop() function can also be used to remove and return an element from the set, but it removes only the last element of the set. \n",
        "- Note – If the set is unordered then there’s no such way to determine which element is popped by using the pop() function. "
      ],
      "metadata": {
        "id": "rW1CkIK6Xegv"
      }
    },
    {
      "cell_type": "code",
      "source": [
        "# Python program to demonstrate  deletion of elements in a Set\n",
        "# Creating a Set\n",
        "set1 = set([1, 2, 3, 4, 5, 6, 7, 8, 9, 10, 11, 12])\n",
        "print(\"Initial Set: \")\n",
        "print(set1,\"\\n\")\n",
        "  \n",
        "# Removing element from the set using the pop() method\n",
        "set1.pop()\n",
        "print(\"Set after popping an element: \")\n",
        "print(set1)"
      ],
      "metadata": {
        "id": "cRZemMnpXqp3"
      },
      "execution_count": null,
      "outputs": []
    },
    {
      "cell_type": "markdown",
      "source": [
        "**3. Using clear() method**\n",
        "- To remove all the elements from the set, clear() function is used. "
      ],
      "metadata": {
        "id": "MKTeFopnYBes"
      }
    },
    {
      "cell_type": "code",
      "source": [
        "#Creating a set\n",
        "set1 = set([1,2,3,4,5])\n",
        "print(\"Initial set: \")\n",
        "print(set1,\"\\n\")\n",
        "  \n",
        "# Removing all the elements from set using clear() method\n",
        "set1.clear()\n",
        "print(\"Set after clearing all the elements: \")\n",
        "print(set1)"
      ],
      "metadata": {
        "colab": {
          "base_uri": "https://localhost:8080/"
        },
        "id": "bImli415YIkI",
        "outputId": "c7b32985-cada-416c-c65a-bc0dc30ea91f"
      },
      "execution_count": null,
      "outputs": [
        {
          "output_type": "stream",
          "name": "stdout",
          "text": [
            "Initial set: \n",
            "{1, 2, 3, 4, 5} \n",
            "\n",
            "Set after clearing all the elements: \n",
            "set()\n"
          ]
        }
      ]
    },
    {
      "cell_type": "markdown",
      "source": [
        "##**Tuples**\n",
        "- Tuple is a collection of Python objects much like a list. The sequence of values stored in a tuple can be of any type, and they are indexed by integers. \n",
        "- The important difference is that tuples are immutable.\n",
        "- Values of a tuple are syntactically separated by ‘commas’. Although it is not necessary, it is more common to define a tuple by closing the sequence of values in parentheses. This helps in understanding the Python tuples more easily."
      ],
      "metadata": {
        "id": "PUpvGm_aYpKL"
      }
    },
    {
      "cell_type": "markdown",
      "source": [
        "###Creating a Tuple\n",
        "- In Python, tuples are created by placing a sequence of values separated by ‘comma’ with or without the use of parentheses for grouping the data sequence.\n",
        "\n",
        "- Note: Creation of Python tuple without the use of parentheses is known as Tuple Packing. "
      ],
      "metadata": {
        "id": "3nsfG3nLZ98X"
      }
    },
    {
      "cell_type": "code",
      "source": [
        "# Creating an empty Tuple\n",
        "Tuple1 = ()\n",
        "print(\"Initial empty Tuple: \")\n",
        "print(Tuple1,\"\\n\")\n",
        "\n",
        "# Creating a Tuple with the use of string\n",
        "Tuple1 = ('Abc', 'Xyz')\n",
        "print(\"Tuple with the use of String: \")\n",
        "print(Tuple1,\"\\n\")\n",
        "\n",
        "# Creating a Tuple with the use of list\n",
        "list1 = [1, 2, 4, 5, 6]\n",
        "print(\"Tuple using List: \")\n",
        "print(tuple(list1),\"\\n\")\n",
        "\n",
        "# Creating a Tuple with the use of built-in function\n",
        "Tuple1 = tuple('ABCDE')\n",
        "print(\"\\nTuple with the use of function: \")\n",
        "print(Tuple1)\n"
      ],
      "metadata": {
        "id": "keIbrKRAmQam"
      },
      "execution_count": null,
      "outputs": []
    },
    {
      "cell_type": "markdown",
      "source": [
        "**Creating a Tuple with Mixed Datatypes.**\n",
        "- Tuples can contain any number of elements and of any datatype (like strings, integers, list, etc.). Tuples can also be created with a single element, but it is a bit tricky. Having one element in the parentheses is not sufficient, there must be a trailing ‘comma’ to make it a tuple. "
      ],
      "metadata": {
        "id": "YktsCgX9nCOh"
      }
    },
    {
      "cell_type": "code",
      "source": [
        "# Creating a Tuple with Mixed Datatype\n",
        "Tuple1 = (5, 'Welcome', 7, 'Peeps')\n",
        "print(\"Tuple with Mixed Datatypes: \")\n",
        "print(Tuple1,\"\\n\")\n",
        "\n",
        "# Creating a Tuple with nested tuples\n",
        "Tuple1 = (0, 1, 2, 3)\n",
        "Tuple2 = ('python', 'code')\n",
        "Tuple3 = (Tuple1, Tuple2)\n",
        "print(\"Tuple with nested tuples: \")\n",
        "print(Tuple3,\"\\n\")\n",
        "\n",
        "# Creating a Tuple with repetition\n",
        "Tuple1 = ('Abcd',) * 3\n",
        "print(\"Tuple with repetition: \")\n",
        "print(Tuple1)\n"
      ],
      "metadata": {
        "id": "JbVdSATpnPdI"
      },
      "execution_count": null,
      "outputs": []
    },
    {
      "cell_type": "markdown",
      "source": [
        "###Accessing of Tuples\n",
        "- Tuples are immutable, and usually, they contain a sequence of heterogeneous elements that are accessed via unpacking or indexing (or even by attribute in the case of named tuples).\n",
        "- Note: In unpacking of tuple number of variables on the left-hand side should be equal to a number of values in given tuple a. "
      ],
      "metadata": {
        "id": "2eDqc7QaoOo_"
      }
    },
    {
      "cell_type": "code",
      "source": [
        "# Accessing Tuple with Indexing\n",
        "Tuple1 = tuple(\"ABCD\")\n",
        "print(\"First element of Tuple: \")\n",
        "print(Tuple1[0])\n",
        "\n",
        "# Tuple unpacking\n",
        "Tuple1 = (\"Abc\", \"Def\", \"Xyz\")\n",
        "\n",
        "# This line unpack values of Tuple1\n",
        "a, b, c = Tuple1\n",
        "print(\"Values after unpacking: \")\n",
        "print(a)\n",
        "print(b)\n",
        "print(c)\n"
      ],
      "metadata": {
        "id": "EPzqSAxOo4WK"
      },
      "execution_count": null,
      "outputs": []
    },
    {
      "cell_type": "markdown",
      "source": [
        "###Concatenation of Tuples\n",
        "- Concatenation of tuple is the process of joining two or more Tuples. Concatenation is done by the use of ‘+’ operator."
      ],
      "metadata": {
        "id": "Cb3BAT1Wppw9"
      }
    },
    {
      "cell_type": "code",
      "source": [
        "# Concatenation of tuples\n",
        "Tuple1 = (0, 1, 2, 3)\n",
        "Tuple2 = ('Abc', 'Def', 'Xyz')\n",
        "\n",
        "Tuple3 = Tuple1 + Tuple2\n",
        "\n",
        "# Printing first Tuple\n",
        "print(\"Tuple 1: \")\n",
        "print(Tuple1,\"\\n\")\n",
        "\n",
        "# Printing Second Tuple\n",
        "print(\"Tuple2: \")\n",
        "print(Tuple2)\n",
        "\n",
        "# Printing Final Tuple\n",
        "print(\"\\nTuples after Concatenation: \")\n",
        "print(Tuple3)\n"
      ],
      "metadata": {
        "id": "V1sk8m46p--D"
      },
      "execution_count": null,
      "outputs": []
    },
    {
      "cell_type": "markdown",
      "source": [
        "###Slicing of Tuple\n",
        "- Slicing of a Tuple is done to fetch a specific range or slice of sub-elements from a Tuple. "
      ],
      "metadata": {
        "id": "9pDAIIIgqXsS"
      }
    },
    {
      "cell_type": "code",
      "source": [
        "# Slicing of a Tuple with Numbers\n",
        "Tuple1 = tuple('ABCDEFGHI')\n",
        "\n",
        "# Removing First element\n",
        "print(\"Removal of First Element: \")\n",
        "print(Tuple1[1:],\"\\n\")\n",
        "\n",
        "# Reversing the Tuple\n",
        "print(\"Tuple after sequence of Element is reversed: \")\n",
        "print(Tuple1[::-1],\"\\n\")\n",
        "\n",
        "# Printing elements of a Range\n",
        "print(\"Printing elements between Range 4-9: \")\n",
        "print(Tuple1[4:9])\n"
      ],
      "metadata": {
        "id": "dFitXhlaqoAz"
      },
      "execution_count": null,
      "outputs": []
    },
    {
      "cell_type": "markdown",
      "source": [
        "###Deleting a Tuple\n",
        "- Tuples are immutable and hence they do not allow deletion of a part of it. The entire tuple gets deleted by the use of del( ) method. \n",
        "- Note- Printing of Tuple after deletion results in an Error. "
      ],
      "metadata": {
        "id": "zWS-uGHXrH_w"
      }
    },
    {
      "cell_type": "code",
      "source": [
        "# Deleting a Tuple\n",
        "\n",
        "Tuple1 = (0, 1, 2, 3, 4)\n",
        "del Tuple1\n",
        "\n",
        "print(Tuple1)\n"
      ],
      "metadata": {
        "id": "grF6lcCcrmlf"
      },
      "execution_count": null,
      "outputs": []
    },
    {
      "cell_type": "markdown",
      "source": [
        "##**Dictionary**\n",
        "- Dictionary in Python is an unordered collection of data values, used to store data values like a map, which, unlike other Data Types that hold only a single value as an element, Dictionary holds key:value pair. Key-value is provided in the dictionary to make it more optimized. \n",
        " "
      ],
      "metadata": {
        "id": "M1eVNIWzsBVS"
      }
    },
    {
      "cell_type": "markdown",
      "source": [
        "###Creating a Dictionary\n",
        "- In Python, a Dictionary can be created by placing a sequence of elements within curly {} braces, separated by ‘comma’. Dictionary holds pairs of values, one being the Key and the other corresponding pair element being its Key:value. Values in a dictionary can be of any data type and can be duplicated, whereas keys can’t be repeated and must be immutable. \n",
        "- Note – Dictionary keys are case sensitive, the same name but different cases of Key will be treated distinctly. "
      ],
      "metadata": {
        "id": "Lk3VfCAwsyrF"
      }
    },
    {
      "cell_type": "code",
      "source": [
        "# Creating a Dictionary with Integer Keys\n",
        "Dict = {1: 'Abc', 2: 'Def', 3: 'Xyz'}\n",
        "print(\"Dictionary with the use of Integer Keys: \")\n",
        "print(Dict,\"\\n\")\n",
        "\n",
        "# Creating a Dictionary with Mixed keys\n",
        "Dict = {'Name': 'Messi', 1: [1, 2, 3, 4]}\n",
        "print(\"Dictionary with the use of Mixed Keys: \")\n",
        "print(Dict)\n"
      ],
      "metadata": {
        "id": "9qURDJd8tT95"
      },
      "execution_count": null,
      "outputs": []
    },
    {
      "cell_type": "markdown",
      "source": [
        "- Dictionary can also be created by the built-in function dict(). An empty dictionary can be created by just placing to curly braces{ }. "
      ],
      "metadata": {
        "id": "C_FE5X54tnyA"
      }
    },
    {
      "cell_type": "code",
      "source": [
        "# Creating an empty Dictionary\n",
        "Dict = {}\n",
        "print(\"Empty Dictionary: \")\n",
        "print(Dict,\"\\n\")\n",
        "\n",
        "# Creating a Dictionary with dict() method\n",
        "Dict = dict({1: 'Abc', 2: 'Def', 3:'Xyz'})\n",
        "print(\"Dictionary with the use of dict(): \")\n",
        "print(Dict,\"\\n\")\n",
        "\n",
        "# Creating a Dictionary with each item as a Pair\n",
        "Dict = dict([(1, 'Abc'), (2, 'Def')])\n",
        "print(\"Dictionary with each item as a pair: \")\n",
        "print(Dict)\n"
      ],
      "metadata": {
        "id": "6eYpeoZJtuHQ"
      },
      "execution_count": null,
      "outputs": []
    },
    {
      "cell_type": "markdown",
      "source": [
        "###Adding elements to a Dictionary\n",
        "- In Python Dictionary, the Addition of elements can be done in multiple ways. One value at a time can be added to a Dictionary by defining value along with the key e.g. Dict[Key] = ‘Value’. Updating an existing value in a Dictionary can be done by using the built-in update( ) method.\n",
        "- Note- While adding a value, if the key-value already exists, the value gets updated otherwise a new Key with the value is added to the Dictionary."
      ],
      "metadata": {
        "id": "v0LXBcQKuYzl"
      }
    },
    {
      "cell_type": "code",
      "source": [
        "# Creating an empty Dictionary\n",
        "Dict = {}\n",
        "print(\"Empty Dictionary: \")\n",
        "print(Dict,\"\\n\")\n",
        "\n",
        "# Adding elements one at a time\n",
        "Dict[0] = 'Abc'\n",
        "Dict[2] = 'Xyz'\n",
        "Dict[3] = 1\n",
        "print(\"Dictionary after adding 3 elements: \")\n",
        "print(Dict,\"\\n\")\n",
        "\n",
        "# Adding set of values to a single Key\n",
        "Dict['Value_set'] = 2, 3, 4\n",
        "print(\"Dictionary after adding 3 elements: \")\n",
        "print(Dict,\"\\n\")\n",
        "\n",
        "# Updating existing Key's Value\n",
        "Dict[2] = 'Welcome'\n",
        "print(\"Updated key value: \")\n",
        "print(Dict)\n"
      ],
      "metadata": {
        "id": "hqJwzkcZutP3"
      },
      "execution_count": null,
      "outputs": []
    },
    {
      "cell_type": "markdown",
      "source": [
        "###Accessing elements from a Dictionary\n",
        "- In order to access the items of a dictionary refer to its key name. Key can be used inside square brackets. "
      ],
      "metadata": {
        "id": "Kvz2KFRYvPTW"
      }
    },
    {
      "cell_type": "code",
      "source": [
        "# Python program to demonstrate accessing a element from a Dictionary\n",
        "# Creating a Dictionary\n",
        "Dict = {1: 'Abc', 'name': 'Def', 3: 'Xyz'}\n",
        "\n",
        "# accessing a element using key\n",
        "print(\"Accessing a element using key:\")\n",
        "print(Dict['name'],\"\\n\")\n",
        "\n",
        "# accessing a element using key\n",
        "print(\"Accessing a element using key:\")\n",
        "print(Dict[1])\n"
      ],
      "metadata": {
        "id": "qYukzx48vXhC"
      },
      "execution_count": null,
      "outputs": []
    },
    {
      "cell_type": "markdown",
      "source": [
        "- There is also a method called get( ) that will also help in accessing the element from a dictionary."
      ],
      "metadata": {
        "id": "3scpzHP_vv70"
      }
    },
    {
      "cell_type": "code",
      "source": [
        "# Creating a Dictionary\n",
        "Dict = {1: 'Abc', 'name': 'Def', 3: 'Xyz'}\n",
        "\n",
        "# accessing a element using get() method\n",
        "print(\"Accessing a element using get:\")\n",
        "print(Dict.get(3))\n"
      ],
      "metadata": {
        "id": "oiLKIw9Lvzjn"
      },
      "execution_count": null,
      "outputs": []
    },
    {
      "cell_type": "markdown",
      "source": [
        "###Removing Elements from Dictionary\n",
        "\n",
        "1. Using del keyword\n",
        "2. Using pop() method\n",
        "3. Using popitem() method\n",
        "4. Using clear() method\n"
      ],
      "metadata": {
        "id": "XnUHN3cswEc9"
      }
    },
    {
      "cell_type": "markdown",
      "source": [
        "**1. Using del keyword**\n",
        "- In Python Dictionary, deletion of keys can be done by using the del keyword. Using the del keyword, specific values from a dictionary as well as the whole dictionary can be deleted.\n",
        "- Note: The del Dict will delete the entire dictionary and hence printing it after deletion will raise an Error."
      ],
      "metadata": {
        "id": "QkVK23EZwQ4Y"
      }
    },
    {
      "cell_type": "code",
      "source": [
        "# Initial Dictionary\n",
        "Dict = { 5 : 'Abc', 6 : 'Def', 7 : 'Xyz'}\n",
        "print(\"Initial Dictionary: \")\n",
        "print(Dict,\"\\n\")\n",
        "\n",
        "# Deleting a Key value\n",
        "del Dict[6]\n",
        "print(\"Deleting a specific key: \")\n",
        "print(Dict)\n"
      ],
      "metadata": {
        "id": "ar4W1BTuwpCD"
      },
      "execution_count": null,
      "outputs": []
    },
    {
      "cell_type": "markdown",
      "source": [
        "**2. Using pop() method**\n",
        "- Pop() method is used to return and delete the value of the key specified."
      ],
      "metadata": {
        "id": "HJrCwgRcxF-1"
      }
    },
    {
      "cell_type": "code",
      "source": [
        "# Creating a Dictionary\n",
        "Dict = {1: 'Abc', 'name': 'Def', 3: 'Xyz'}\n",
        "print(\"Dictionary before using pop: \", Dict )\n",
        "\n",
        "# Deleting a key using pop() method\n",
        "pop_ele = Dict.pop(1)\n",
        "print('Dictionary after deletion: ' + str(Dict))\n",
        "print('Value associated to poped key is: ' + str(pop_ele))\n"
      ],
      "metadata": {
        "id": "JVxqMuLrxPDb"
      },
      "execution_count": null,
      "outputs": []
    },
    {
      "cell_type": "markdown",
      "source": [
        "**3. Using popitem() method**\n",
        "- The popitem() returns and removes an arbitrary element (key, value) pair from the dictionary."
      ],
      "metadata": {
        "id": "feYbgo6jyVec"
      }
    },
    {
      "cell_type": "code",
      "source": [
        "# Creating Dictionary\n",
        "Dict = {1: 'Abc', 'name': 'Def', 3: 'Xyz'}\n",
        "\n",
        "# Deleting an arbitrary key using popitem() function\n",
        "pop_ele = Dict.popitem()\n",
        "print(\"Dictionary after deletion: \" + str(Dict))\n",
        "print(\"The arbitrary pair returned is: \" + str(pop_ele))\n"
      ],
      "metadata": {
        "id": "WJiFRV0FygGO"
      },
      "execution_count": null,
      "outputs": []
    },
    {
      "cell_type": "markdown",
      "source": [
        "**4. Using clear() method**\n",
        "- All the items from a dictionary can be deleted at once by using clear() method."
      ],
      "metadata": {
        "id": "Y0Pj6n_wzUOd"
      }
    },
    {
      "cell_type": "code",
      "source": [
        "# Creating a Dictionary\n",
        "Dict = {1: 'Abc', 'name': 'Def', 3: 'Xyz'}\n",
        "\n",
        "\n",
        "# Deleting entire Dictionary\n",
        "Dict.clear()\n",
        "print(\"Deleting Entire Dictionary: \")\n",
        "print(Dict)\n"
      ],
      "metadata": {
        "id": "PCSgNeKhzdgO"
      },
      "execution_count": null,
      "outputs": []
    },
    {
      "cell_type": "markdown",
      "metadata": {
        "id": "mZpOXPldm8jL"
      },
      "source": [
        "## **NumPy**\n",
        "\n",
        "NumPy (or Numpy) is a Linear Algebra Library for Python, the reason it is so important for Data Science with Python is that almost all of the libraries in the PyData Ecosystem rely on NumPy as one of their main building blocks.\n",
        "\n",
        "Numpy is also incredibly fast, as it has bindings to C libraries. For more info on why you would want to use Arrays instead of lists, check out this great [StackOverflow post](http://stackoverflow.com/questions/993984/why-numpy-instead-of-python-lists).\n",
        "\n",
        "We will only learn the basics of NumPy, to get started we need to install it!"
      ]
    },
    {
      "cell_type": "markdown",
      "metadata": {
        "id": "yMUd9rGUm8jL"
      },
      "source": [
        "### Installation Instructions\n",
        "\n",
        "**It is highly recommended you install Python using the Anaconda distribution to make sure all underlying dependencies (such as Linear Algebra libraries) all sync up with the use of a conda install. If you have Anaconda, install NumPy by going to your terminal or command prompt and typing:**\n",
        "    \n",
        "    conda install numpy\n",
        "    \n",
        "**If you do not have Anaconda and can not install it, please refer to [Numpy's official documentation on various installation instructions.](http://docs.scipy.org/doc/numpy-1.10.1/user/install.html)**"
      ]
    },
    {
      "cell_type": "markdown",
      "metadata": {
        "id": "0-jrf-DJm8jM"
      },
      "source": [
        "### Using NumPy\n",
        "\n",
        "- Once you've installed NumPy you can import it as a library:"
      ]
    },
    {
      "cell_type": "code",
      "execution_count": null,
      "metadata": {
        "collapsed": true,
        "id": "VjIe4Mq1m8jM"
      },
      "outputs": [],
      "source": [
        "import numpy as np"
      ]
    },
    {
      "cell_type": "markdown",
      "metadata": {
        "id": "SJbiBq-zm8jN"
      },
      "source": [
        "Numpy has many built-in functions and capabilities. We won't cover them all but instead we will focus on some of the most important aspects of Numpy: vectors,arrays,matrices, and number generation. Let's start by discussing arrays.\n",
        "\n",
        "## **Numpy Arrays**\n",
        "\n",
        "NumPy arrays are the main way we will use Numpy throughout the course. Numpy arrays essentially come in two flavors: vectors and matrices. Vectors are strictly 1-d arrays and matrices are 2-d (but you should note a matrix can still have only one row or one column).\n",
        "\n",
        "Let's begin our introduction by exploring how to create NumPy arrays.\n",
        "\n",
        "### Creating NumPy Arrays\n",
        "\n",
        "**From a Python List**\n",
        "\n",
        "- We can create an array by directly converting a list or list of lists:"
      ]
    },
    {
      "cell_type": "code",
      "execution_count": null,
      "metadata": {
        "id": "x01m7iUKm8jO",
        "outputId": "cae5fa44-affc-45df-d933-f31ec26ad19e"
      },
      "outputs": [
        {
          "data": {
            "text/plain": [
              "[1, 2, 3]"
            ]
          },
          "execution_count": 19,
          "metadata": {},
          "output_type": "execute_result"
        }
      ],
      "source": [
        "my_list = [1,2,3]\n",
        "my_list"
      ]
    },
    {
      "cell_type": "code",
      "execution_count": null,
      "metadata": {
        "id": "CqBXLvT4m8jP"
      },
      "outputs": [],
      "source": [
        "np.array(my_list)"
      ]
    },
    {
      "cell_type": "code",
      "execution_count": null,
      "metadata": {
        "id": "XpHz5xIBm8jQ",
        "outputId": "4f5f00af-0e37-4ff8-a624-bd24caae6280"
      },
      "outputs": [
        {
          "data": {
            "text/plain": [
              "[[1, 2, 3], [4, 5, 6], [7, 8, 9]]"
            ]
          },
          "execution_count": 20,
          "metadata": {},
          "output_type": "execute_result"
        }
      ],
      "source": [
        "my_matrix = [[1,2,3],[4,5,6],[7,8,9]]\n",
        "my_matrix"
      ]
    },
    {
      "cell_type": "code",
      "execution_count": null,
      "metadata": {
        "id": "LIoIVcSgm8jQ",
        "outputId": "3688ed83-e1da-4a4a-8ff0-4f5eb2846971"
      },
      "outputs": [
        {
          "data": {
            "text/plain": [
              "array([[1, 2, 3],\n",
              "       [4, 5, 6],\n",
              "       [7, 8, 9]])"
            ]
          },
          "execution_count": 21,
          "metadata": {},
          "output_type": "execute_result"
        }
      ],
      "source": [
        "np.array(my_matrix)"
      ]
    },
    {
      "cell_type": "markdown",
      "metadata": {
        "id": "54cLWLS4m8jR"
      },
      "source": [
        "### Built-in Methods\n",
        "\n",
        "- There are lots of built-in ways to generate Arrays"
      ]
    },
    {
      "cell_type": "markdown",
      "metadata": {
        "id": "NIoV0c0wm8jR"
      },
      "source": [
        "**Arange**\n",
        "\n",
        "- Return evenly spaced values within a given interval."
      ]
    },
    {
      "cell_type": "code",
      "execution_count": null,
      "metadata": {
        "id": "dleKuFEdm8jR",
        "outputId": "6c3889d4-6ca0-4ab2-ce6a-0e43afed97e0"
      },
      "outputs": [
        {
          "data": {
            "text/plain": [
              "array([0, 1, 2, 3, 4, 5, 6, 7, 8, 9])"
            ]
          },
          "execution_count": 22,
          "metadata": {},
          "output_type": "execute_result"
        }
      ],
      "source": [
        "np.arange(0,10)"
      ]
    },
    {
      "cell_type": "code",
      "execution_count": null,
      "metadata": {
        "id": "qalCswDYm8jR",
        "outputId": "7c42df86-28f4-4014-ddfd-1936c6a7d072"
      },
      "outputs": [
        {
          "data": {
            "text/plain": [
              "array([ 0,  2,  4,  6,  8, 10])"
            ]
          },
          "execution_count": 23,
          "metadata": {},
          "output_type": "execute_result"
        }
      ],
      "source": [
        "np.arange(0,11,2)"
      ]
    },
    {
      "cell_type": "markdown",
      "metadata": {
        "id": "QnvDPjDym8jS"
      },
      "source": [
        "**zeros and ones**\n",
        "\n",
        "- Generate arrays of zeros or ones"
      ]
    },
    {
      "cell_type": "code",
      "execution_count": null,
      "metadata": {
        "id": "UYs3t9Vam8jS",
        "outputId": "ad1891e3-9131-4140-f984-acda4ff3bbe1"
      },
      "outputs": [
        {
          "data": {
            "text/plain": [
              "array([ 0.,  0.,  0.])"
            ]
          },
          "execution_count": 24,
          "metadata": {},
          "output_type": "execute_result"
        }
      ],
      "source": [
        "np.zeros(3)"
      ]
    },
    {
      "cell_type": "code",
      "execution_count": null,
      "metadata": {
        "id": "e68fAsmVm8jS",
        "outputId": "73836bc5-63a5-47cf-9893-cbaba3cf6f34"
      },
      "outputs": [
        {
          "data": {
            "text/plain": [
              "array([[ 0.,  0.,  0.,  0.,  0.],\n",
              "       [ 0.,  0.,  0.,  0.,  0.],\n",
              "       [ 0.,  0.,  0.,  0.,  0.],\n",
              "       [ 0.,  0.,  0.,  0.,  0.],\n",
              "       [ 0.,  0.,  0.,  0.,  0.]])"
            ]
          },
          "execution_count": 26,
          "metadata": {},
          "output_type": "execute_result"
        }
      ],
      "source": [
        "np.zeros((5,5))"
      ]
    },
    {
      "cell_type": "code",
      "execution_count": null,
      "metadata": {
        "id": "MBBTmMzkm8jT",
        "outputId": "2006a8c8-f1a4-456e-f409-cb8f3123251c"
      },
      "outputs": [
        {
          "data": {
            "text/plain": [
              "array([ 1.,  1.,  1.])"
            ]
          },
          "execution_count": 27,
          "metadata": {},
          "output_type": "execute_result"
        }
      ],
      "source": [
        "np.ones(3)"
      ]
    },
    {
      "cell_type": "code",
      "execution_count": null,
      "metadata": {
        "id": "gD6SghBXm8jT",
        "outputId": "e54c9c9e-cc81-4ff3-bb87-655dc7525b6e"
      },
      "outputs": [
        {
          "data": {
            "text/plain": [
              "array([[ 1.,  1.,  1.],\n",
              "       [ 1.,  1.,  1.],\n",
              "       [ 1.,  1.,  1.]])"
            ]
          },
          "execution_count": 28,
          "metadata": {},
          "output_type": "execute_result"
        }
      ],
      "source": [
        "np.ones((3,3))"
      ]
    },
    {
      "cell_type": "markdown",
      "metadata": {
        "id": "D9VF15q2m8jT"
      },
      "source": [
        "**linspace**\n",
        "- Return evenly spaced numbers over a specified interval."
      ]
    },
    {
      "cell_type": "code",
      "execution_count": null,
      "metadata": {
        "id": "RBmFp-j_m8jT",
        "outputId": "f0fc26a2-1dca-4d0b-9fb0-567419f8f22f"
      },
      "outputs": [
        {
          "data": {
            "text/plain": [
              "array([  0.,   5.,  10.])"
            ]
          },
          "execution_count": 29,
          "metadata": {},
          "output_type": "execute_result"
        }
      ],
      "source": [
        "np.linspace(0,10,3)"
      ]
    },
    {
      "cell_type": "code",
      "execution_count": null,
      "metadata": {
        "id": "_pzYf5AAm8jU",
        "outputId": "ba3709d3-12ef-40c2-d095-3dd2be4a023e"
      },
      "outputs": [
        {
          "data": {
            "text/plain": [
              "array([  0.        ,   0.20408163,   0.40816327,   0.6122449 ,\n",
              "         0.81632653,   1.02040816,   1.2244898 ,   1.42857143,\n",
              "         1.63265306,   1.83673469,   2.04081633,   2.24489796,\n",
              "         2.44897959,   2.65306122,   2.85714286,   3.06122449,\n",
              "         3.26530612,   3.46938776,   3.67346939,   3.87755102,\n",
              "         4.08163265,   4.28571429,   4.48979592,   4.69387755,\n",
              "         4.89795918,   5.10204082,   5.30612245,   5.51020408,\n",
              "         5.71428571,   5.91836735,   6.12244898,   6.32653061,\n",
              "         6.53061224,   6.73469388,   6.93877551,   7.14285714,\n",
              "         7.34693878,   7.55102041,   7.75510204,   7.95918367,\n",
              "         8.16326531,   8.36734694,   8.57142857,   8.7755102 ,\n",
              "         8.97959184,   9.18367347,   9.3877551 ,   9.59183673,\n",
              "         9.79591837,  10.        ])"
            ]
          },
          "execution_count": 31,
          "metadata": {},
          "output_type": "execute_result"
        }
      ],
      "source": [
        "np.linspace(0,10,50)"
      ]
    },
    {
      "cell_type": "markdown",
      "metadata": {
        "id": "kwdZ-n82m8jU"
      },
      "source": [
        "### eye\n",
        "\n",
        "- Creates an identity matrix"
      ]
    },
    {
      "cell_type": "code",
      "execution_count": null,
      "metadata": {
        "id": "d_wJAnPAm8jU",
        "outputId": "5175ce64-13bb-4e33-d3cd-c7800d875531"
      },
      "outputs": [
        {
          "data": {
            "text/plain": [
              "array([[ 1.,  0.,  0.,  0.],\n",
              "       [ 0.,  1.,  0.,  0.],\n",
              "       [ 0.,  0.,  1.,  0.],\n",
              "       [ 0.,  0.,  0.,  1.]])"
            ]
          },
          "execution_count": 37,
          "metadata": {},
          "output_type": "execute_result"
        }
      ],
      "source": [
        "np.eye(4)"
      ]
    },
    {
      "cell_type": "markdown",
      "metadata": {
        "id": "_g4Y-dI9m8jU"
      },
      "source": [
        "### Random \n",
        "\n",
        "Numpy also has lots of ways to create random number arrays:\n",
        "\n",
        "**rand**\n",
        "- Create an array of the given shape and populate it with\n",
        "random samples from a uniform distribution\n",
        "over ``[0, 1)``."
      ]
    },
    {
      "cell_type": "code",
      "execution_count": null,
      "metadata": {
        "id": "kjRUaNoFm8jU",
        "outputId": "69eefd70-b620-46f2-b284-1666b78f756f"
      },
      "outputs": [
        {
          "data": {
            "text/plain": [
              "array([ 0.11570539,  0.35279769])"
            ]
          },
          "execution_count": 47,
          "metadata": {},
          "output_type": "execute_result"
        }
      ],
      "source": [
        "np.random.rand(2)"
      ]
    },
    {
      "cell_type": "code",
      "execution_count": null,
      "metadata": {
        "id": "sN-E6gQjm8jV",
        "outputId": "5a0a4e57-0168-4571-eabd-f96273fb7862"
      },
      "outputs": [
        {
          "data": {
            "text/plain": [
              "array([[ 0.66660768,  0.87589888,  0.12421056,  0.65074126,  0.60260888],\n",
              "       [ 0.70027668,  0.85572434,  0.8464595 ,  0.2735416 ,  0.10955384],\n",
              "       [ 0.0670566 ,  0.83267738,  0.9082729 ,  0.58249129,  0.12305748],\n",
              "       [ 0.27948423,  0.66422017,  0.95639833,  0.34238788,  0.9578872 ],\n",
              "       [ 0.72155386,  0.3035422 ,  0.85249683,  0.30414307,  0.79718816]])"
            ]
          },
          "execution_count": 46,
          "metadata": {},
          "output_type": "execute_result"
        }
      ],
      "source": [
        "np.random.rand(5,5)"
      ]
    },
    {
      "cell_type": "markdown",
      "metadata": {
        "id": "7gY_Dm7bm8jV"
      },
      "source": [
        "**randn**\n",
        "\n",
        "- Return a sample (or samples) from the \"standard normal\" distribution. Unlike rand which is uniform:"
      ]
    },
    {
      "cell_type": "code",
      "execution_count": null,
      "metadata": {
        "id": "5WjoVV7Em8jV",
        "outputId": "5b080862-ea0d-407e-d855-a7927f855f26"
      },
      "outputs": [
        {
          "data": {
            "text/plain": [
              "array([-0.27954018,  0.90078368])"
            ]
          },
          "execution_count": 48,
          "metadata": {},
          "output_type": "execute_result"
        }
      ],
      "source": [
        "np.random.randn(2)"
      ]
    },
    {
      "cell_type": "code",
      "execution_count": null,
      "metadata": {
        "id": "m5SBgj4Gm8jV",
        "outputId": "2be932c4-0559-42d5-b516-b733e52c1dc4"
      },
      "outputs": [
        {
          "data": {
            "text/plain": [
              "array([[ 0.70154515,  0.22441999,  1.33563186,  0.82872577, -0.28247509],\n",
              "       [ 0.64489788,  0.61815094, -0.81693168, -0.30102424, -0.29030574],\n",
              "       [ 0.8695976 ,  0.413755  ,  2.20047208,  0.17955692, -0.82159344],\n",
              "       [ 0.59264235,  1.29869894, -1.18870241,  0.11590888, -0.09181687],\n",
              "       [-0.96924265, -1.62888685, -2.05787102, -0.29705576,  0.68915542]])"
            ]
          },
          "execution_count": 45,
          "metadata": {},
          "output_type": "execute_result"
        }
      ],
      "source": [
        "np.random.randn(5,5)"
      ]
    },
    {
      "cell_type": "markdown",
      "metadata": {
        "id": "Z92KO2oim8jV"
      },
      "source": [
        "**randint**\n",
        "- Return random integers from `low` (inclusive) to `high` (exclusive)."
      ]
    },
    {
      "cell_type": "code",
      "execution_count": null,
      "metadata": {
        "id": "AwierU_4m8jW",
        "outputId": "6fa2361e-0511-4085-9245-98534dbfedce"
      },
      "outputs": [
        {
          "data": {
            "text/plain": [
              "44"
            ]
          },
          "execution_count": 50,
          "metadata": {},
          "output_type": "execute_result"
        }
      ],
      "source": [
        "np.random.randint(1,100)"
      ]
    },
    {
      "cell_type": "code",
      "execution_count": null,
      "metadata": {
        "id": "zRJ9nJOpm8jW",
        "outputId": "f928bdf9-00d5-4ff2-a81b-b0095787ed9f"
      },
      "outputs": [
        {
          "data": {
            "text/plain": [
              "array([13, 64, 27, 63, 46, 68, 92, 10, 58, 24])"
            ]
          },
          "execution_count": 51,
          "metadata": {},
          "output_type": "execute_result"
        }
      ],
      "source": [
        "np.random.randint(1,100,10)"
      ]
    },
    {
      "cell_type": "markdown",
      "metadata": {
        "id": "cbLwObA4m8jW"
      },
      "source": [
        "### Array Attributes and Methods\n",
        "\n",
        "- Let's discuss some useful attributes and methods or an array:"
      ]
    },
    {
      "cell_type": "code",
      "execution_count": null,
      "metadata": {
        "collapsed": true,
        "id": "0NkQGbJpm8jW"
      },
      "outputs": [],
      "source": [
        "arr = np.arange(25)\n",
        "ranarr = np.random.randint(0,50,10)"
      ]
    },
    {
      "cell_type": "code",
      "execution_count": null,
      "metadata": {
        "id": "uHIyvuspm8jW",
        "outputId": "3bbdd149-ff28-4ae3-a6ed-7c622bc96334"
      },
      "outputs": [
        {
          "data": {
            "text/plain": [
              "array([ 0,  1,  2,  3,  4,  5,  6,  7,  8,  9, 10, 11, 12, 13, 14, 15, 16,\n",
              "       17, 18, 19, 20, 21, 22, 23, 24])"
            ]
          },
          "execution_count": 56,
          "metadata": {},
          "output_type": "execute_result"
        }
      ],
      "source": [
        "arr"
      ]
    },
    {
      "cell_type": "code",
      "execution_count": null,
      "metadata": {
        "id": "xchybDyDm8jW",
        "outputId": "f122581f-40df-498b-b721-7f4df9f6d7e2"
      },
      "outputs": [
        {
          "data": {
            "text/plain": [
              "array([10, 12, 41, 17, 49,  2, 46,  3, 19, 39])"
            ]
          },
          "execution_count": 57,
          "metadata": {},
          "output_type": "execute_result"
        }
      ],
      "source": [
        "ranarr"
      ]
    },
    {
      "cell_type": "markdown",
      "metadata": {
        "id": "4FgamGhkm8jX"
      },
      "source": [
        "### Reshape\n",
        "- Returns an array containing the same data with a new shape."
      ]
    },
    {
      "cell_type": "code",
      "execution_count": null,
      "metadata": {
        "id": "TepWqKlCm8jX",
        "outputId": "7dd9c83b-2522-4285-c6f1-68038039c8fd"
      },
      "outputs": [
        {
          "data": {
            "text/plain": [
              "array([[ 0,  1,  2,  3,  4],\n",
              "       [ 5,  6,  7,  8,  9],\n",
              "       [10, 11, 12, 13, 14],\n",
              "       [15, 16, 17, 18, 19],\n",
              "       [20, 21, 22, 23, 24]])"
            ]
          },
          "execution_count": 54,
          "metadata": {},
          "output_type": "execute_result"
        }
      ],
      "source": [
        "arr.reshape(5,5)"
      ]
    },
    {
      "cell_type": "markdown",
      "metadata": {
        "id": "WMsji0WYm8jX"
      },
      "source": [
        "**max,min,argmax,argmin**\n",
        "\n",
        "- These are useful methods for finding max or min values. Or to find their index locations using argmin or argmax"
      ]
    },
    {
      "cell_type": "code",
      "execution_count": null,
      "metadata": {
        "id": "CI0_RJgnm8jX",
        "outputId": "96626999-6e59-4d3f-e088-e174ae7332a4"
      },
      "outputs": [
        {
          "data": {
            "text/plain": [
              "array([10, 12, 41, 17, 49,  2, 46,  3, 19, 39])"
            ]
          },
          "execution_count": 64,
          "metadata": {},
          "output_type": "execute_result"
        }
      ],
      "source": [
        "ranarr"
      ]
    },
    {
      "cell_type": "code",
      "execution_count": null,
      "metadata": {
        "id": "9Y19H-ldm8jX",
        "outputId": "d1aef23c-16fc-4fbc-e702-671aa43b0694"
      },
      "outputs": [
        {
          "data": {
            "text/plain": [
              "49"
            ]
          },
          "execution_count": 61,
          "metadata": {},
          "output_type": "execute_result"
        }
      ],
      "source": [
        "ranarr.max()"
      ]
    },
    {
      "cell_type": "code",
      "execution_count": null,
      "metadata": {
        "id": "tSt0F_4Wm8jX",
        "outputId": "19ec2825-dcd1-414f-8469-bff5ee965913"
      },
      "outputs": [
        {
          "data": {
            "text/plain": [
              "4"
            ]
          },
          "execution_count": 62,
          "metadata": {},
          "output_type": "execute_result"
        }
      ],
      "source": [
        "ranarr.argmax()"
      ]
    },
    {
      "cell_type": "code",
      "execution_count": null,
      "metadata": {
        "id": "Y1fljTwtm8jX",
        "outputId": "8d2f8248-e030-4d1e-d1f9-bcae31e48156"
      },
      "outputs": [
        {
          "data": {
            "text/plain": [
              "2"
            ]
          },
          "execution_count": 63,
          "metadata": {},
          "output_type": "execute_result"
        }
      ],
      "source": [
        "ranarr.min()"
      ]
    },
    {
      "cell_type": "code",
      "execution_count": null,
      "metadata": {
        "id": "UEJTvKrFm8jY",
        "outputId": "867594db-35f3-4b90-aade-05dc13ab1651"
      },
      "outputs": [
        {
          "data": {
            "text/plain": [
              "5"
            ]
          },
          "execution_count": 60,
          "metadata": {},
          "output_type": "execute_result"
        }
      ],
      "source": [
        "ranarr.argmin()"
      ]
    },
    {
      "cell_type": "markdown",
      "metadata": {
        "id": "lOJHtHuEm8jY"
      },
      "source": [
        "### Shape\n",
        "\n",
        "- Shape is an attribute that arrays have (not a method):"
      ]
    },
    {
      "cell_type": "code",
      "execution_count": null,
      "metadata": {
        "id": "90aBpyWym8jY",
        "outputId": "2b746cdf-4630-4d56-e6e2-5baabccea508"
      },
      "outputs": [
        {
          "data": {
            "text/plain": [
              "(25,)"
            ]
          },
          "execution_count": 65,
          "metadata": {},
          "output_type": "execute_result"
        }
      ],
      "source": [
        "# Vector\n",
        "arr.shape"
      ]
    },
    {
      "cell_type": "code",
      "execution_count": null,
      "metadata": {
        "id": "deicZ1szm8jY",
        "outputId": "71378c58-521d-441c-febd-6b036bd9c15b"
      },
      "outputs": [
        {
          "data": {
            "text/plain": [
              "array([[ 0,  1,  2,  3,  4,  5,  6,  7,  8,  9, 10, 11, 12, 13, 14, 15, 16,\n",
              "        17, 18, 19, 20, 21, 22, 23, 24]])"
            ]
          },
          "execution_count": 66,
          "metadata": {},
          "output_type": "execute_result"
        }
      ],
      "source": [
        "# Notice the two sets of brackets\n",
        "arr.reshape(1,25)"
      ]
    },
    {
      "cell_type": "code",
      "execution_count": null,
      "metadata": {
        "id": "-ZiqLoWnm8jY",
        "outputId": "3f8b2c2d-dc55-46de-b4f8-d4c7c07a521f"
      },
      "outputs": [
        {
          "data": {
            "text/plain": [
              "(1, 25)"
            ]
          },
          "execution_count": 69,
          "metadata": {},
          "output_type": "execute_result"
        }
      ],
      "source": [
        "arr.reshape(1,25).shape"
      ]
    },
    {
      "cell_type": "code",
      "execution_count": null,
      "metadata": {
        "id": "VFLkLw8Qm8jY",
        "outputId": "d7c25bae-5d32-4104-d2c2-f794ece0a790"
      },
      "outputs": [
        {
          "data": {
            "text/plain": [
              "array([[ 0],\n",
              "       [ 1],\n",
              "       [ 2],\n",
              "       [ 3],\n",
              "       [ 4],\n",
              "       [ 5],\n",
              "       [ 6],\n",
              "       [ 7],\n",
              "       [ 8],\n",
              "       [ 9],\n",
              "       [10],\n",
              "       [11],\n",
              "       [12],\n",
              "       [13],\n",
              "       [14],\n",
              "       [15],\n",
              "       [16],\n",
              "       [17],\n",
              "       [18],\n",
              "       [19],\n",
              "       [20],\n",
              "       [21],\n",
              "       [22],\n",
              "       [23],\n",
              "       [24]])"
            ]
          },
          "execution_count": 70,
          "metadata": {},
          "output_type": "execute_result"
        }
      ],
      "source": [
        "arr.reshape(25,1)"
      ]
    },
    {
      "cell_type": "code",
      "execution_count": null,
      "metadata": {
        "id": "w9eZctIWm8jY",
        "outputId": "ac66077b-9607-44c4-9dea-2fb57310fc1d"
      },
      "outputs": [
        {
          "data": {
            "text/plain": [
              "(25, 1)"
            ]
          },
          "execution_count": 76,
          "metadata": {},
          "output_type": "execute_result"
        }
      ],
      "source": [
        "arr.reshape(25,1).shape"
      ]
    },
    {
      "cell_type": "markdown",
      "metadata": {
        "id": "ubqEtXhDm8jZ"
      },
      "source": [
        "**dtype**\n",
        "\n",
        "- You can also grab the data type of the object in the array:"
      ]
    },
    {
      "cell_type": "code",
      "execution_count": null,
      "metadata": {
        "id": "FNLLhDgpm8jZ",
        "outputId": "702ea705-d702-4001-94ab-c0e8ae48a53b"
      },
      "outputs": [
        {
          "data": {
            "text/plain": [
              "dtype('int64')"
            ]
          },
          "execution_count": 75,
          "metadata": {},
          "output_type": "execute_result"
        }
      ],
      "source": [
        "arr.dtype"
      ]
    },
    {
      "cell_type": "markdown",
      "metadata": {
        "id": "JyNaRqYNpnv4"
      },
      "source": [
        "## **NumPy Indexing and Selection**\n",
        "\n",
        "- In this lecture we will discuss how to select elements or groups of elements from an array."
      ]
    },
    {
      "cell_type": "code",
      "execution_count": null,
      "metadata": {
        "id": "00Nqud_7pnv5"
      },
      "outputs": [],
      "source": [
        "import numpy as np"
      ]
    },
    {
      "cell_type": "code",
      "execution_count": null,
      "metadata": {
        "id": "SBVTXVUBpnv6"
      },
      "outputs": [],
      "source": [
        "#Creating sample array\n",
        "arr = np.arange(0,11)"
      ]
    },
    {
      "cell_type": "code",
      "execution_count": null,
      "metadata": {
        "id": "mPCoH-sKpnv6",
        "outputId": "51e76bd9-f9d5-4724-b32a-8db20a7cd7ec"
      },
      "outputs": [
        {
          "data": {
            "text/plain": [
              "array([ 0,  1,  2,  3,  4,  5,  6,  7,  8,  9, 10])"
            ]
          },
          "execution_count": 4,
          "metadata": {},
          "output_type": "execute_result"
        }
      ],
      "source": [
        "#Show\n",
        "arr"
      ]
    },
    {
      "cell_type": "markdown",
      "metadata": {
        "id": "KaEmrjtTpnv7"
      },
      "source": [
        "### Bracket Indexing and Selection\n",
        "- The simplest way to pick one or some elements of an array looks very similar to python lists:"
      ]
    },
    {
      "cell_type": "code",
      "execution_count": null,
      "metadata": {
        "id": "bG0vAnCnpnv7",
        "outputId": "b1540c2f-cd57-4bf5-d1b4-a820fc2a93fe"
      },
      "outputs": [
        {
          "data": {
            "text/plain": [
              "8"
            ]
          },
          "execution_count": 5,
          "metadata": {},
          "output_type": "execute_result"
        }
      ],
      "source": [
        "#Get a value at an index\n",
        "arr[8]"
      ]
    },
    {
      "cell_type": "code",
      "execution_count": null,
      "metadata": {
        "id": "yDtZynp0pnv8",
        "outputId": "e4d73805-0aa9-41d2-e781-11c13e3659c4"
      },
      "outputs": [
        {
          "data": {
            "text/plain": [
              "array([1, 2, 3, 4])"
            ]
          },
          "execution_count": 6,
          "metadata": {},
          "output_type": "execute_result"
        }
      ],
      "source": [
        "#Get values in a range\n",
        "arr[1:5]"
      ]
    },
    {
      "cell_type": "code",
      "execution_count": null,
      "metadata": {
        "id": "Z4PB5rlMpnv9",
        "outputId": "a145fa4f-84c1-4f88-a294-32af173e8d7a"
      },
      "outputs": [
        {
          "data": {
            "text/plain": [
              "array([0, 1, 2, 3, 4])"
            ]
          },
          "execution_count": 7,
          "metadata": {},
          "output_type": "execute_result"
        }
      ],
      "source": [
        "#Get values in a range\n",
        "arr[0:5]"
      ]
    },
    {
      "cell_type": "markdown",
      "metadata": {
        "id": "e3btqWQ6pnv9"
      },
      "source": [
        "### Broadcasting\n",
        "\n",
        "- Numpy arrays differ from a normal Python list because of their ability to broadcast:"
      ]
    },
    {
      "cell_type": "code",
      "execution_count": null,
      "metadata": {
        "id": "hwSPMHtmpnv9",
        "outputId": "ac291058-dee0-40df-eeed-77d880d4579d"
      },
      "outputs": [
        {
          "data": {
            "text/plain": [
              "array([100, 100, 100, 100, 100,   5,   6,   7,   8,   9,  10])"
            ]
          },
          "execution_count": 8,
          "metadata": {},
          "output_type": "execute_result"
        }
      ],
      "source": [
        "#Setting a value with index range (Broadcasting)\n",
        "arr[0:5]=100\n",
        "\n",
        "#Show\n",
        "arr"
      ]
    },
    {
      "cell_type": "code",
      "execution_count": null,
      "metadata": {
        "id": "HB2_jqj7pnv-",
        "outputId": "23849b18-8b8d-4b85-8beb-6b8f8c81f487"
      },
      "outputs": [
        {
          "data": {
            "text/plain": [
              "array([ 0,  1,  2,  3,  4,  5,  6,  7,  8,  9, 10])"
            ]
          },
          "execution_count": 9,
          "metadata": {},
          "output_type": "execute_result"
        }
      ],
      "source": [
        "# Reset array, we'll see why I had to reset in  a moment\n",
        "arr = np.arange(0,11)\n",
        "\n",
        "#Show\n",
        "arr"
      ]
    },
    {
      "cell_type": "code",
      "execution_count": null,
      "metadata": {
        "id": "kljT7F7apnv-",
        "outputId": "c6b5e10c-50ec-41b2-be88-9c9904aad9f9"
      },
      "outputs": [
        {
          "data": {
            "text/plain": [
              "array([0, 1, 2, 3, 4, 5])"
            ]
          },
          "execution_count": 10,
          "metadata": {},
          "output_type": "execute_result"
        }
      ],
      "source": [
        "#Important notes on Slices\n",
        "slice_of_arr = arr[0:6]\n",
        "\n",
        "#Show slice\n",
        "slice_of_arr"
      ]
    },
    {
      "cell_type": "code",
      "execution_count": null,
      "metadata": {
        "id": "7o-26OIjpnv_",
        "outputId": "146948e3-12fd-4355-de43-700295ab3151"
      },
      "outputs": [
        {
          "data": {
            "text/plain": [
              "array([99, 99, 99, 99, 99, 99])"
            ]
          },
          "execution_count": 11,
          "metadata": {},
          "output_type": "execute_result"
        }
      ],
      "source": [
        "#Change Slice\n",
        "slice_of_arr[:]=99\n",
        "\n",
        "#Show Slice again\n",
        "slice_of_arr"
      ]
    },
    {
      "cell_type": "markdown",
      "metadata": {
        "id": "CWOzHnA9pnv_"
      },
      "source": [
        "Now note the changes also occur in our original array!"
      ]
    },
    {
      "cell_type": "code",
      "execution_count": null,
      "metadata": {
        "id": "Yn4mWRv4pnv_",
        "outputId": "4635083b-0c40-45af-ad66-d06e5e7c9e17"
      },
      "outputs": [
        {
          "data": {
            "text/plain": [
              "array([99, 99, 99, 99, 99, 99,  6,  7,  8,  9, 10])"
            ]
          },
          "execution_count": 12,
          "metadata": {},
          "output_type": "execute_result"
        }
      ],
      "source": [
        "arr"
      ]
    },
    {
      "cell_type": "markdown",
      "metadata": {
        "id": "5F5OxTMtpnv_"
      },
      "source": [
        "Data is not copied, it's a view of the original array! This avoids memory problems!"
      ]
    },
    {
      "cell_type": "code",
      "execution_count": null,
      "metadata": {
        "id": "6r0UzXVOpnwA",
        "outputId": "994592c4-ef21-478d-9c92-67e618931ef0"
      },
      "outputs": [
        {
          "data": {
            "text/plain": [
              "array([99, 99, 99, 99, 99, 99,  6,  7,  8,  9, 10])"
            ]
          },
          "execution_count": 13,
          "metadata": {},
          "output_type": "execute_result"
        }
      ],
      "source": [
        "#To get a copy, need to be explicit\n",
        "arr_copy = arr.copy()\n",
        "\n",
        "arr_copy"
      ]
    },
    {
      "cell_type": "markdown",
      "metadata": {
        "id": "tQIcuPgupnwA"
      },
      "source": [
        "### Indexing a 2D array (matrices)\n",
        "\n",
        "- The general format is **arr_2d[row][col]** or **arr_2d[row,col]**. I recommend usually using the comma notation for clarity."
      ]
    },
    {
      "cell_type": "code",
      "execution_count": null,
      "metadata": {
        "id": "hlhtq2E4pnwA",
        "outputId": "be9b5524-4176-451d-f668-1d8897fb48d2"
      },
      "outputs": [
        {
          "data": {
            "text/plain": [
              "array([[ 5, 10, 15],\n",
              "       [20, 25, 30],\n",
              "       [35, 40, 45]])"
            ]
          },
          "execution_count": 14,
          "metadata": {},
          "output_type": "execute_result"
        }
      ],
      "source": [
        "arr_2d = np.array(([5,10,15],[20,25,30],[35,40,45]))\n",
        "\n",
        "#Show\n",
        "arr_2d"
      ]
    },
    {
      "cell_type": "code",
      "execution_count": null,
      "metadata": {
        "id": "mMv6YodQpnwA",
        "outputId": "9052aeb8-661a-44f2-a869-1fb16856755f"
      },
      "outputs": [
        {
          "data": {
            "text/plain": [
              "array([20, 25, 30])"
            ]
          },
          "execution_count": 15,
          "metadata": {},
          "output_type": "execute_result"
        }
      ],
      "source": [
        "#Indexing row\n",
        "arr_2d[1]\n"
      ]
    },
    {
      "cell_type": "code",
      "execution_count": null,
      "metadata": {
        "id": "fmTF-o14pnwB",
        "outputId": "07a5306e-104f-49d0-fcfe-0979ef82e926"
      },
      "outputs": [
        {
          "data": {
            "text/plain": [
              "20"
            ]
          },
          "execution_count": 16,
          "metadata": {},
          "output_type": "execute_result"
        }
      ],
      "source": [
        "# Format is arr_2d[row][col] or arr_2d[row,col]\n",
        "\n",
        "# Getting individual element value\n",
        "arr_2d[1][0]"
      ]
    },
    {
      "cell_type": "code",
      "execution_count": null,
      "metadata": {
        "id": "kCmUGu_DpnwB",
        "outputId": "294fd628-2f21-4738-d6bd-3cbfe6aec61f"
      },
      "outputs": [
        {
          "data": {
            "text/plain": [
              "20"
            ]
          },
          "execution_count": 17,
          "metadata": {},
          "output_type": "execute_result"
        }
      ],
      "source": [
        "# Getting individual element value\n",
        "arr_2d[1,0]"
      ]
    },
    {
      "cell_type": "code",
      "execution_count": null,
      "metadata": {
        "id": "Ozj2NxdxpnwB",
        "outputId": "723cd342-364e-40de-e5bd-5fc80f477288"
      },
      "outputs": [
        {
          "data": {
            "text/plain": [
              "array([[10, 15],\n",
              "       [25, 30]])"
            ]
          },
          "execution_count": 18,
          "metadata": {},
          "output_type": "execute_result"
        }
      ],
      "source": [
        "# 2D array slicing\n",
        "\n",
        "#Shape (2,2) from top right corner\n",
        "arr_2d[:2,1:]"
      ]
    },
    {
      "cell_type": "code",
      "execution_count": null,
      "metadata": {
        "id": "qRfIK91jpnwB",
        "outputId": "5a603fbe-726a-458a-e3b2-d07402a83167"
      },
      "outputs": [
        {
          "data": {
            "text/plain": [
              "array([35, 40, 45])"
            ]
          },
          "execution_count": 19,
          "metadata": {},
          "output_type": "execute_result"
        }
      ],
      "source": [
        "#Shape bottom row\n",
        "arr_2d[2]"
      ]
    },
    {
      "cell_type": "code",
      "execution_count": null,
      "metadata": {
        "id": "IpUbOHkYpnwC",
        "outputId": "8919e56c-5d9f-4473-b81c-7e9d09a64e7e"
      },
      "outputs": [
        {
          "data": {
            "text/plain": [
              "array([35, 40, 45])"
            ]
          },
          "execution_count": 20,
          "metadata": {},
          "output_type": "execute_result"
        }
      ],
      "source": [
        "#Shape bottom row\n",
        "arr_2d[2,:]"
      ]
    },
    {
      "cell_type": "markdown",
      "metadata": {
        "id": "2Ng7HZy4pnwC"
      },
      "source": [
        "**Fancy Indexing**\n",
        "\n",
        "- Fancy indexing allows you to select entire rows or columns out of order,to show this, let's quickly build out a numpy array:"
      ]
    },
    {
      "cell_type": "code",
      "execution_count": null,
      "metadata": {
        "id": "sxtA--HypnwC"
      },
      "outputs": [],
      "source": [
        "#Set up matrix\n",
        "arr2d = np.zeros((10,10))"
      ]
    },
    {
      "cell_type": "code",
      "execution_count": null,
      "metadata": {
        "id": "nvc1SThPpnwC"
      },
      "outputs": [],
      "source": [
        "#Length of array\n",
        "arr_length = arr2d.shape[1]"
      ]
    },
    {
      "cell_type": "code",
      "execution_count": null,
      "metadata": {
        "id": "RZDZw2zZpnwC",
        "outputId": "1408f331-036b-47d2-8b0d-2ee3c23b7c64"
      },
      "outputs": [
        {
          "data": {
            "text/plain": [
              "array([[ 0.,  0.,  0.,  0.,  0.,  0.,  0.,  0.,  0.,  0.],\n",
              "       [ 1.,  1.,  1.,  1.,  1.,  1.,  1.,  1.,  1.,  1.],\n",
              "       [ 2.,  2.,  2.,  2.,  2.,  2.,  2.,  2.,  2.,  2.],\n",
              "       [ 3.,  3.,  3.,  3.,  3.,  3.,  3.,  3.,  3.,  3.],\n",
              "       [ 4.,  4.,  4.,  4.,  4.,  4.,  4.,  4.,  4.,  4.],\n",
              "       [ 5.,  5.,  5.,  5.,  5.,  5.,  5.,  5.,  5.,  5.],\n",
              "       [ 6.,  6.,  6.,  6.,  6.,  6.,  6.,  6.,  6.,  6.],\n",
              "       [ 7.,  7.,  7.,  7.,  7.,  7.,  7.,  7.,  7.,  7.],\n",
              "       [ 8.,  8.,  8.,  8.,  8.,  8.,  8.,  8.,  8.,  8.],\n",
              "       [ 9.,  9.,  9.,  9.,  9.,  9.,  9.,  9.,  9.,  9.]])"
            ]
          },
          "execution_count": 23,
          "metadata": {},
          "output_type": "execute_result"
        }
      ],
      "source": [
        "#Set up array\n",
        "\n",
        "for i in range(arr_length):\n",
        "    arr2d[i] = i\n",
        "    \n",
        "arr2d"
      ]
    },
    {
      "cell_type": "markdown",
      "metadata": {
        "id": "A_WoaDG8pnwC"
      },
      "source": [
        "Fancy indexing allows the following"
      ]
    },
    {
      "cell_type": "code",
      "execution_count": null,
      "metadata": {
        "id": "W3dNKEO9pnwC",
        "outputId": "7f95d49a-50ca-4640-cfeb-ee2df17a166e"
      },
      "outputs": [
        {
          "data": {
            "text/plain": [
              "array([[ 2.,  2.,  2.,  2.,  2.,  2.,  2.,  2.,  2.,  2.],\n",
              "       [ 4.,  4.,  4.,  4.,  4.,  4.,  4.,  4.,  4.,  4.],\n",
              "       [ 6.,  6.,  6.,  6.,  6.,  6.,  6.,  6.,  6.,  6.],\n",
              "       [ 8.,  8.,  8.,  8.,  8.,  8.,  8.,  8.,  8.,  8.]])"
            ]
          },
          "execution_count": 24,
          "metadata": {},
          "output_type": "execute_result"
        }
      ],
      "source": [
        "arr2d[[2,4,6,8]]"
      ]
    },
    {
      "cell_type": "code",
      "execution_count": null,
      "metadata": {
        "id": "8RsDHNHvpnwD",
        "outputId": "c7a483b4-ff97-4e83-e893-45dc8e76e7de"
      },
      "outputs": [
        {
          "data": {
            "text/plain": [
              "array([[ 6.,  6.,  6.,  6.,  6.,  6.,  6.,  6.,  6.,  6.],\n",
              "       [ 4.,  4.,  4.,  4.,  4.,  4.,  4.,  4.,  4.,  4.],\n",
              "       [ 2.,  2.,  2.,  2.,  2.,  2.,  2.,  2.,  2.,  2.],\n",
              "       [ 7.,  7.,  7.,  7.,  7.,  7.,  7.,  7.,  7.,  7.]])"
            ]
          },
          "execution_count": 25,
          "metadata": {},
          "output_type": "execute_result"
        }
      ],
      "source": [
        "#Allows in any order\n",
        "arr2d[[6,4,2,7]]"
      ]
    },
    {
      "cell_type": "markdown",
      "metadata": {
        "id": "CRuMhwYEpnwD"
      },
      "source": [
        "### More Indexing Help\n",
        "Indexing a 2d matrix can be a bit confusing at first, especially when you start to add in step size. Try google image searching NumPy indexing to fins useful images, like this one:"
      ]
    },
    {
      "cell_type": "markdown",
      "metadata": {
        "id": "pfAA0t-JpnwD"
      },
      "source": [
        "### Selection\n",
        "\n",
        "- Let's briefly go over how to use brackets for selection based off of comparison operators."
      ]
    },
    {
      "cell_type": "code",
      "execution_count": null,
      "metadata": {
        "id": "DYk5NXgvpnwD",
        "outputId": "c943e8fb-9b8b-4585-facd-7b85fefd0b0b"
      },
      "outputs": [
        {
          "data": {
            "text/plain": [
              "array([ 1,  2,  3,  4,  5,  6,  7,  8,  9, 10])"
            ]
          },
          "execution_count": 28,
          "metadata": {},
          "output_type": "execute_result"
        }
      ],
      "source": [
        "arr = np.arange(1,11)\n",
        "arr"
      ]
    },
    {
      "cell_type": "code",
      "execution_count": null,
      "metadata": {
        "id": "pjT2ktX5pnwD",
        "outputId": "7fd02817-7d2a-4905-e7b1-fce75b78a673"
      },
      "outputs": [
        {
          "data": {
            "text/plain": [
              "array([False, False, False, False,  True,  True,  True,  True,  True,  True], dtype=bool)"
            ]
          },
          "execution_count": 30,
          "metadata": {},
          "output_type": "execute_result"
        }
      ],
      "source": [
        "arr > 4"
      ]
    },
    {
      "cell_type": "code",
      "execution_count": null,
      "metadata": {
        "collapsed": true,
        "id": "2fUNd7Z1pnwD"
      },
      "outputs": [],
      "source": [
        "bool_arr = arr>4"
      ]
    },
    {
      "cell_type": "code",
      "execution_count": null,
      "metadata": {
        "id": "3A_KK8TMpnwE",
        "outputId": "d6a8801f-80a8-403a-f649-1bac400dd59e"
      },
      "outputs": [
        {
          "data": {
            "text/plain": [
              "array([False, False, False, False,  True,  True,  True,  True,  True,  True], dtype=bool)"
            ]
          },
          "execution_count": 32,
          "metadata": {},
          "output_type": "execute_result"
        }
      ],
      "source": [
        "bool_arr"
      ]
    },
    {
      "cell_type": "code",
      "execution_count": null,
      "metadata": {
        "id": "0qorQJLHpnwE",
        "outputId": "198509ba-c8c4-4f97-bb9c-d4a7714def3b"
      },
      "outputs": [
        {
          "data": {
            "text/plain": [
              "array([ 5,  6,  7,  8,  9, 10])"
            ]
          },
          "execution_count": 33,
          "metadata": {},
          "output_type": "execute_result"
        }
      ],
      "source": [
        "arr[bool_arr]"
      ]
    },
    {
      "cell_type": "code",
      "execution_count": null,
      "metadata": {
        "id": "nuHLKSeipnwE",
        "outputId": "1661b098-c1c4-4495-a804-c6b8111ce190"
      },
      "outputs": [
        {
          "data": {
            "text/plain": [
              "array([ 3,  4,  5,  6,  7,  8,  9, 10])"
            ]
          },
          "execution_count": 34,
          "metadata": {},
          "output_type": "execute_result"
        }
      ],
      "source": [
        "arr[arr>2]"
      ]
    },
    {
      "cell_type": "code",
      "execution_count": null,
      "metadata": {
        "id": "td4KwMaApnwE",
        "outputId": "5af5ebe9-0c4e-46ca-daba-ddf144a1ad20"
      },
      "outputs": [
        {
          "data": {
            "text/plain": [
              "array([ 3,  4,  5,  6,  7,  8,  9, 10])"
            ]
          },
          "execution_count": 37,
          "metadata": {},
          "output_type": "execute_result"
        }
      ],
      "source": [
        "x = 2\n",
        "arr[arr>x]"
      ]
    },
    {
      "cell_type": "markdown",
      "metadata": {
        "collapsed": true,
        "id": "t49BRyKVrOoi"
      },
      "source": [
        "## **NumPy Operations**"
      ]
    },
    {
      "cell_type": "markdown",
      "metadata": {
        "id": "GefFpn9-rOoj"
      },
      "source": [
        "### Arithmetic\n",
        "\n",
        "- You can easily perform array with array arithmetic, or scalar with array arithmetic. Let's see some examples:"
      ]
    },
    {
      "cell_type": "code",
      "execution_count": null,
      "metadata": {
        "collapsed": true,
        "id": "80fNGuMxrOoj"
      },
      "outputs": [],
      "source": [
        "import numpy as np\n",
        "arr = np.arange(0,10)"
      ]
    },
    {
      "cell_type": "code",
      "execution_count": null,
      "metadata": {
        "id": "oxXZXIBhrOok",
        "outputId": "f2fc1f64-4552-41bd-c040-12b80af2129a"
      },
      "outputs": [
        {
          "data": {
            "text/plain": [
              "array([ 0,  2,  4,  6,  8, 10, 12, 14, 16, 18])"
            ]
          },
          "execution_count": 2,
          "metadata": {},
          "output_type": "execute_result"
        }
      ],
      "source": [
        "arr + arr"
      ]
    },
    {
      "cell_type": "code",
      "execution_count": null,
      "metadata": {
        "id": "ePUoVKDErOol",
        "outputId": "7d66027b-656e-44bb-a15c-f1cbc7c604d1"
      },
      "outputs": [
        {
          "data": {
            "text/plain": [
              "array([ 0,  1,  4,  9, 16, 25, 36, 49, 64, 81])"
            ]
          },
          "execution_count": 3,
          "metadata": {},
          "output_type": "execute_result"
        }
      ],
      "source": [
        "arr * arr"
      ]
    },
    {
      "cell_type": "code",
      "execution_count": null,
      "metadata": {
        "id": "Bpga9TN3rOom",
        "outputId": "fc58f81a-19f5-422d-9033-3b082602c42c"
      },
      "outputs": [
        {
          "data": {
            "text/plain": [
              "array([0, 0, 0, 0, 0, 0, 0, 0, 0, 0])"
            ]
          },
          "execution_count": 4,
          "metadata": {},
          "output_type": "execute_result"
        }
      ],
      "source": [
        "arr - arr"
      ]
    },
    {
      "cell_type": "code",
      "execution_count": null,
      "metadata": {
        "id": "QHZ68w9brOom",
        "outputId": "a4d510c0-71b5-4564-d56f-66d142cd1f26"
      },
      "outputs": [
        {
          "name": "stderr",
          "output_type": "stream",
          "text": [
            "/Users/marci/anaconda/lib/python3.5/site-packages/ipykernel/__main__.py:1: RuntimeWarning: invalid value encountered in true_divide\n",
            "  if __name__ == '__main__':\n"
          ]
        },
        {
          "data": {
            "text/plain": [
              "array([ nan,   1.,   1.,   1.,   1.,   1.,   1.,   1.,   1.,   1.])"
            ]
          },
          "execution_count": 5,
          "metadata": {},
          "output_type": "execute_result"
        }
      ],
      "source": [
        "# Warning on division by zero, but not an error!\n",
        "# Just replaced with nan\n",
        "arr/arr"
      ]
    },
    {
      "cell_type": "code",
      "execution_count": null,
      "metadata": {
        "id": "3lQiziHTrOon",
        "outputId": "cb3dce66-a3e1-4bc9-8745-56f66b142436"
      },
      "outputs": [
        {
          "name": "stderr",
          "output_type": "stream",
          "text": [
            "/Users/marci/anaconda/lib/python3.5/site-packages/ipykernel/__main__.py:1: RuntimeWarning: divide by zero encountered in true_divide\n",
            "  if __name__ == '__main__':\n"
          ]
        },
        {
          "data": {
            "text/plain": [
              "array([        inf,  1.        ,  0.5       ,  0.33333333,  0.25      ,\n",
              "        0.2       ,  0.16666667,  0.14285714,  0.125     ,  0.11111111])"
            ]
          },
          "execution_count": 6,
          "metadata": {},
          "output_type": "execute_result"
        }
      ],
      "source": [
        "# Also warning, but not an error instead infinity\n",
        "1/arr"
      ]
    },
    {
      "cell_type": "code",
      "execution_count": null,
      "metadata": {
        "id": "ScfwdxcFrOon",
        "outputId": "d4ad4879-71dc-440c-ff11-954c1943d73d"
      },
      "outputs": [
        {
          "data": {
            "text/plain": [
              "array([  0,   1,   8,  27,  64, 125, 216, 343, 512, 729])"
            ]
          },
          "execution_count": 10,
          "metadata": {},
          "output_type": "execute_result"
        }
      ],
      "source": [
        "arr**3"
      ]
    },
    {
      "cell_type": "markdown",
      "metadata": {
        "id": "gz4ivFi0rOoo"
      },
      "source": [
        "### Universal Array Functions\n",
        "\n",
        "- Numpy comes with many [universal array functions](http://docs.scipy.org/doc/numpy/reference/ufuncs.html), which are essentially just mathematical operations you can use to perform the operation across the array. Let's show some common ones:"
      ]
    },
    {
      "cell_type": "code",
      "execution_count": null,
      "metadata": {
        "id": "6pLrMb5ZrOoo",
        "outputId": "701e004e-9566-457d-9c43-e400df6c71fb"
      },
      "outputs": [
        {
          "data": {
            "text/plain": [
              "array([ 0.        ,  1.        ,  1.41421356,  1.73205081,  2.        ,\n",
              "        2.23606798,  2.44948974,  2.64575131,  2.82842712,  3.        ])"
            ]
          },
          "execution_count": 12,
          "metadata": {},
          "output_type": "execute_result"
        }
      ],
      "source": [
        "#Taking Square Roots\n",
        "np.sqrt(arr)"
      ]
    },
    {
      "cell_type": "code",
      "execution_count": null,
      "metadata": {
        "id": "1EOZcUGDrOoo",
        "outputId": "7a8f48b9-6a54-43d3-d820-f51dc7333519"
      },
      "outputs": [
        {
          "data": {
            "text/plain": [
              "array([  1.00000000e+00,   2.71828183e+00,   7.38905610e+00,\n",
              "         2.00855369e+01,   5.45981500e+01,   1.48413159e+02,\n",
              "         4.03428793e+02,   1.09663316e+03,   2.98095799e+03,\n",
              "         8.10308393e+03])"
            ]
          },
          "execution_count": 13,
          "metadata": {},
          "output_type": "execute_result"
        }
      ],
      "source": [
        "#Calcualting exponential (e^)\n",
        "np.exp(arr)"
      ]
    },
    {
      "cell_type": "code",
      "execution_count": null,
      "metadata": {
        "id": "1OnLRlscrOop",
        "outputId": "39f2123b-ddd8-4844-cc7a-9907dfec43da"
      },
      "outputs": [
        {
          "data": {
            "text/plain": [
              "9"
            ]
          },
          "execution_count": 14,
          "metadata": {},
          "output_type": "execute_result"
        }
      ],
      "source": [
        "np.max(arr) #same as arr.max()"
      ]
    },
    {
      "cell_type": "code",
      "execution_count": null,
      "metadata": {
        "id": "yyqyM14prOop",
        "outputId": "069c4740-5bf5-4acd-9b46-c5729dcd8c70"
      },
      "outputs": [
        {
          "data": {
            "text/plain": [
              "array([ 0.        ,  0.84147098,  0.90929743,  0.14112001, -0.7568025 ,\n",
              "       -0.95892427, -0.2794155 ,  0.6569866 ,  0.98935825,  0.41211849])"
            ]
          },
          "execution_count": 15,
          "metadata": {},
          "output_type": "execute_result"
        }
      ],
      "source": [
        "np.sin(arr)"
      ]
    },
    {
      "cell_type": "code",
      "execution_count": null,
      "metadata": {
        "id": "onGPjMCQrOop",
        "outputId": "7734b386-2f0f-465b-c0b4-88dded79b2c5"
      },
      "outputs": [
        {
          "name": "stderr",
          "output_type": "stream",
          "text": [
            "/Users/marci/anaconda/lib/python3.5/site-packages/ipykernel/__main__.py:1: RuntimeWarning: divide by zero encountered in log\n",
            "  if __name__ == '__main__':\n"
          ]
        },
        {
          "data": {
            "text/plain": [
              "array([       -inf,  0.        ,  0.69314718,  1.09861229,  1.38629436,\n",
              "        1.60943791,  1.79175947,  1.94591015,  2.07944154,  2.19722458])"
            ]
          },
          "execution_count": 16,
          "metadata": {},
          "output_type": "execute_result"
        }
      ],
      "source": [
        "np.log(arr)"
      ]
    },
    {
      "cell_type": "markdown",
      "metadata": {
        "id": "DWNiOW15rtdL"
      },
      "source": [
        "## **NumPy Exercises** \n",
        "\n",
        "Now that we've learned about NumPy let's test your knowledge. We'll start off with a few simple tasks, and then you'll be asked some more complicated questions."
      ]
    },
    {
      "cell_type": "markdown",
      "metadata": {
        "id": "dUQwqAXwrtdM"
      },
      "source": [
        "**Import NumPy as np**"
      ]
    },
    {
      "cell_type": "code",
      "execution_count": null,
      "metadata": {
        "collapsed": true,
        "id": "rMPQ-whQrtdM"
      },
      "outputs": [],
      "source": [
        ""
      ]
    },
    {
      "cell_type": "markdown",
      "metadata": {
        "id": "pWmSTtbOrtdN"
      },
      "source": [
        "**Create an array of 10 zeros** "
      ]
    },
    {
      "cell_type": "code",
      "execution_count": null,
      "metadata": {
        "id": "pZEXo--4rtdN",
        "outputId": "e0bf9aa0-e575-4e36-bad9-ff5b83336958"
      },
      "outputs": [
        {
          "data": {
            "text/plain": [
              "array([ 0.,  0.,  0.,  0.,  0.,  0.,  0.,  0.,  0.,  0.])"
            ]
          },
          "execution_count": 2,
          "metadata": {},
          "output_type": "execute_result"
        }
      ],
      "source": [
        ""
      ]
    },
    {
      "cell_type": "markdown",
      "metadata": {
        "id": "QPlbVqZirtdO"
      },
      "source": [
        "**Create an array of 10 ones**"
      ]
    },
    {
      "cell_type": "code",
      "execution_count": null,
      "metadata": {
        "id": "wWBPPywzrtdP",
        "outputId": "7ead95e0-8789-44cf-c4bd-04ad66d2bbad"
      },
      "outputs": [
        {
          "data": {
            "text/plain": [
              "array([ 1.,  1.,  1.,  1.,  1.,  1.,  1.,  1.,  1.,  1.])"
            ]
          },
          "execution_count": 3,
          "metadata": {},
          "output_type": "execute_result"
        }
      ],
      "source": [
        ""
      ]
    },
    {
      "cell_type": "markdown",
      "metadata": {
        "id": "YTnvlOGdrtdP"
      },
      "source": [
        "**Create an array of 10 fives**"
      ]
    },
    {
      "cell_type": "code",
      "execution_count": null,
      "metadata": {
        "id": "E0Er8h4MrtdP",
        "outputId": "0ef0acdb-2aef-4d04-f9d0-6a5957fb58d1"
      },
      "outputs": [
        {
          "data": {
            "text/plain": [
              "array([ 5.,  5.,  5.,  5.,  5.,  5.,  5.,  5.,  5.,  5.])"
            ]
          },
          "execution_count": 4,
          "metadata": {},
          "output_type": "execute_result"
        }
      ],
      "source": [
        ""
      ]
    },
    {
      "cell_type": "markdown",
      "metadata": {
        "id": "liTkhDycrtdQ"
      },
      "source": [
        "**Create an array of the integers from 10 to 50**"
      ]
    },
    {
      "cell_type": "code",
      "execution_count": null,
      "metadata": {
        "id": "5KJk5oRvrtdQ",
        "outputId": "ee302afd-06d5-412a-f0ce-1db684605e98"
      },
      "outputs": [
        {
          "data": {
            "text/plain": [
              "array([10, 11, 12, 13, 14, 15, 16, 17, 18, 19, 20, 21, 22, 23, 24, 25, 26,\n",
              "       27, 28, 29, 30, 31, 32, 33, 34, 35, 36, 37, 38, 39, 40, 41, 42, 43,\n",
              "       44, 45, 46, 47, 48, 49, 50])"
            ]
          },
          "execution_count": 5,
          "metadata": {},
          "output_type": "execute_result"
        }
      ],
      "source": [
        ""
      ]
    },
    {
      "cell_type": "markdown",
      "metadata": {
        "id": "kgZM-fkurtdQ"
      },
      "source": [
        "**Create an array of all the even integers from 10 to 50**"
      ]
    },
    {
      "cell_type": "code",
      "execution_count": null,
      "metadata": {
        "id": "Dztaeje2rtdR",
        "outputId": "0e78a70f-ffa1-43b5-85fd-46ae8a303751"
      },
      "outputs": [
        {
          "data": {
            "text/plain": [
              "array([10, 12, 14, 16, 18, 20, 22, 24, 26, 28, 30, 32, 34, 36, 38, 40, 42,\n",
              "       44, 46, 48, 50])"
            ]
          },
          "execution_count": 6,
          "metadata": {},
          "output_type": "execute_result"
        }
      ],
      "source": [
        ""
      ]
    },
    {
      "cell_type": "markdown",
      "metadata": {
        "id": "Dik4cPw8rtdR"
      },
      "source": [
        "**Create a 3x3 matrix with values ranging from 0 to 8**"
      ]
    },
    {
      "cell_type": "code",
      "execution_count": null,
      "metadata": {
        "id": "c9JWVrxYrtdR",
        "outputId": "b50e0715-3289-420f-a258-014a289d3f4b"
      },
      "outputs": [
        {
          "data": {
            "text/plain": [
              "array([[0, 1, 2],\n",
              "       [3, 4, 5],\n",
              "       [6, 7, 8]])"
            ]
          },
          "execution_count": 7,
          "metadata": {},
          "output_type": "execute_result"
        }
      ],
      "source": [
        ""
      ]
    },
    {
      "cell_type": "markdown",
      "metadata": {
        "id": "75DxZjw5rtdS"
      },
      "source": [
        " **Create a 3x3 identity matrix**"
      ]
    },
    {
      "cell_type": "code",
      "execution_count": null,
      "metadata": {
        "id": "1CDjOTK_rtdS",
        "outputId": "5f8f5ef4-6cca-4176-ee9d-a6b67462f4ad"
      },
      "outputs": [
        {
          "data": {
            "text/plain": [
              "array([[ 1.,  0.,  0.],\n",
              "       [ 0.,  1.,  0.],\n",
              "       [ 0.,  0.,  1.]])"
            ]
          },
          "execution_count": 8,
          "metadata": {},
          "output_type": "execute_result"
        }
      ],
      "source": [
        ""
      ]
    },
    {
      "cell_type": "markdown",
      "metadata": {
        "id": "vb6OWxyqrtdS"
      },
      "source": [
        " **Use NumPy to generate a random number between 0 and 1**"
      ]
    },
    {
      "cell_type": "code",
      "execution_count": null,
      "metadata": {
        "id": "qXhv2tndrtdS",
        "outputId": "7d72e050-3386-451d-c000-0437800d4896"
      },
      "outputs": [
        {
          "data": {
            "text/plain": [
              "array([ 0.42829726])"
            ]
          },
          "execution_count": 15,
          "metadata": {},
          "output_type": "execute_result"
        }
      ],
      "source": [
        ""
      ]
    },
    {
      "cell_type": "markdown",
      "metadata": {
        "id": "NUr_XnWortdS"
      },
      "source": [
        "**Use NumPy to generate an array of 25 random numbers sampled from a standard normal distribution**"
      ]
    },
    {
      "cell_type": "code",
      "execution_count": null,
      "metadata": {
        "id": "5pA53JWcrtdT",
        "outputId": "51d615a4-4d40-4b86-b771-2248a8ebfa2e"
      },
      "outputs": [
        {
          "data": {
            "text/plain": [
              "array([ 1.32031013,  1.6798602 , -0.42985892, -1.53116655,  0.85753232,\n",
              "        0.87339938,  0.35668636, -1.47491157,  0.15349697,  0.99530727,\n",
              "       -0.94865451, -1.69174783,  1.57525349, -0.70615234,  0.10991879,\n",
              "       -0.49478947,  1.08279872,  0.76488333, -2.3039931 ,  0.35401124,\n",
              "       -0.45454399, -0.64754649, -0.29391671,  0.02339861,  0.38272124])"
            ]
          },
          "execution_count": 33,
          "metadata": {},
          "output_type": "execute_result"
        }
      ],
      "source": [
        ""
      ]
    },
    {
      "cell_type": "markdown",
      "metadata": {
        "id": "2oL3ZlUCrtdT"
      },
      "source": [
        "**Create the following matrix:**"
      ]
    },
    {
      "cell_type": "code",
      "execution_count": null,
      "metadata": {
        "id": "NGB-og_9rtdT",
        "outputId": "d81c05b8-3af3-4320-f947-418b50773661"
      },
      "outputs": [
        {
          "data": {
            "text/plain": [
              "array([[ 0.01,  0.02,  0.03,  0.04,  0.05,  0.06,  0.07,  0.08,  0.09,  0.1 ],\n",
              "       [ 0.11,  0.12,  0.13,  0.14,  0.15,  0.16,  0.17,  0.18,  0.19,  0.2 ],\n",
              "       [ 0.21,  0.22,  0.23,  0.24,  0.25,  0.26,  0.27,  0.28,  0.29,  0.3 ],\n",
              "       [ 0.31,  0.32,  0.33,  0.34,  0.35,  0.36,  0.37,  0.38,  0.39,  0.4 ],\n",
              "       [ 0.41,  0.42,  0.43,  0.44,  0.45,  0.46,  0.47,  0.48,  0.49,  0.5 ],\n",
              "       [ 0.51,  0.52,  0.53,  0.54,  0.55,  0.56,  0.57,  0.58,  0.59,  0.6 ],\n",
              "       [ 0.61,  0.62,  0.63,  0.64,  0.65,  0.66,  0.67,  0.68,  0.69,  0.7 ],\n",
              "       [ 0.71,  0.72,  0.73,  0.74,  0.75,  0.76,  0.77,  0.78,  0.79,  0.8 ],\n",
              "       [ 0.81,  0.82,  0.83,  0.84,  0.85,  0.86,  0.87,  0.88,  0.89,  0.9 ],\n",
              "       [ 0.91,  0.92,  0.93,  0.94,  0.95,  0.96,  0.97,  0.98,  0.99,  1.  ]])"
            ]
          },
          "execution_count": 35,
          "metadata": {},
          "output_type": "execute_result"
        }
      ],
      "source": [
        ""
      ]
    },
    {
      "cell_type": "markdown",
      "metadata": {
        "id": "3-fodD99rtdT"
      },
      "source": [
        "**Create an array of 20 linearly spaced points between 0 and 1:**"
      ]
    },
    {
      "cell_type": "code",
      "execution_count": null,
      "metadata": {
        "id": "qKCgWZVfrtdT",
        "outputId": "44def43d-fb70-4c02-add9-e47592a7a7ac"
      },
      "outputs": [
        {
          "data": {
            "text/plain": [
              "array([ 0.        ,  0.05263158,  0.10526316,  0.15789474,  0.21052632,\n",
              "        0.26315789,  0.31578947,  0.36842105,  0.42105263,  0.47368421,\n",
              "        0.52631579,  0.57894737,  0.63157895,  0.68421053,  0.73684211,\n",
              "        0.78947368,  0.84210526,  0.89473684,  0.94736842,  1.        ])"
            ]
          },
          "execution_count": 36,
          "metadata": {},
          "output_type": "execute_result"
        }
      ],
      "source": [
        ""
      ]
    },
    {
      "cell_type": "markdown",
      "metadata": {
        "id": "2Ibbs6utrtdU"
      },
      "source": [
        "### Numpy Indexing and Selection\n",
        "\n",
        "- Now you will be given a few matrices, and be asked to replicate the resulting matrix outputs:"
      ]
    },
    {
      "cell_type": "code",
      "execution_count": null,
      "metadata": {
        "id": "5Gh90ifUrtdU",
        "outputId": "5615d547-0d57-4d47-f626-1704faf338b1"
      },
      "outputs": [
        {
          "data": {
            "text/plain": [
              "array([[ 1,  2,  3,  4,  5],\n",
              "       [ 6,  7,  8,  9, 10],\n",
              "       [11, 12, 13, 14, 15],\n",
              "       [16, 17, 18, 19, 20],\n",
              "       [21, 22, 23, 24, 25]])"
            ]
          },
          "execution_count": 38,
          "metadata": {},
          "output_type": "execute_result"
        }
      ],
      "source": [
        "mat = np.arange(1,26).reshape(5,5)\n",
        "mat"
      ]
    },
    {
      "cell_type": "code",
      "execution_count": null,
      "metadata": {
        "collapsed": true,
        "id": "NlHLIQSnrtdU"
      },
      "outputs": [],
      "source": [
        "# WRITE CODE HERE THAT REPRODUCES THE OUTPUT OF THE CELL BELOW\n",
        "# BE CAREFUL NOT TO RUN THE CELL BELOW, OTHERWISE YOU WON'T\n",
        "# BE ABLE TO SEE THE OUTPUT ANY MORE"
      ]
    },
    {
      "cell_type": "code",
      "execution_count": null,
      "metadata": {
        "id": "4he0K9p0rtdU",
        "outputId": "9738a72d-e2f0-4d90-9e82-c91b29983298"
      },
      "outputs": [
        {
          "data": {
            "text/plain": [
              "array([[12, 13, 14, 15],\n",
              "       [17, 18, 19, 20],\n",
              "       [22, 23, 24, 25]])"
            ]
          },
          "execution_count": 40,
          "metadata": {},
          "output_type": "execute_result"
        }
      ],
      "source": [
        ""
      ]
    },
    {
      "cell_type": "code",
      "execution_count": null,
      "metadata": {
        "collapsed": true,
        "id": "mYu4e4nArtdV"
      },
      "outputs": [],
      "source": [
        "# WRITE CODE HERE THAT REPRODUCES THE OUTPUT OF THE CELL BELOW\n",
        "# BE CAREFUL NOT TO RUN THE CELL BELOW, OTHERWISE YOU WON'T\n",
        "# BE ABLE TO SEE THE OUTPUT ANY MORE"
      ]
    },
    {
      "cell_type": "code",
      "execution_count": null,
      "metadata": {
        "id": "PMocEyv3rtdV",
        "outputId": "31e272da-abf7-49dc-f9cf-39224e250077"
      },
      "outputs": [
        {
          "data": {
            "text/plain": [
              "20"
            ]
          },
          "execution_count": 41,
          "metadata": {},
          "output_type": "execute_result"
        }
      ],
      "source": [
        ""
      ]
    },
    {
      "cell_type": "code",
      "execution_count": null,
      "metadata": {
        "collapsed": true,
        "id": "PK7EbzktrtdV"
      },
      "outputs": [],
      "source": [
        "# WRITE CODE HERE THAT REPRODUCES THE OUTPUT OF THE CELL BELOW\n",
        "# BE CAREFUL NOT TO RUN THE CELL BELOW, OTHERWISE YOU WON'T\n",
        "# BE ABLE TO SEE THE OUTPUT ANY MORE"
      ]
    },
    {
      "cell_type": "code",
      "execution_count": null,
      "metadata": {
        "id": "QMoZOGXErtdV",
        "outputId": "23e96dde-703b-44d7-8347-5f4bd437e647"
      },
      "outputs": [
        {
          "data": {
            "text/plain": [
              "array([[ 2],\n",
              "       [ 7],\n",
              "       [12]])"
            ]
          },
          "execution_count": 42,
          "metadata": {},
          "output_type": "execute_result"
        }
      ],
      "source": [
        ""
      ]
    },
    {
      "cell_type": "code",
      "execution_count": null,
      "metadata": {
        "collapsed": true,
        "id": "PS129pW3rtdV"
      },
      "outputs": [],
      "source": [
        "# WRITE CODE HERE THAT REPRODUCES THE OUTPUT OF THE CELL BELOW\n",
        "# BE CAREFUL NOT TO RUN THE CELL BELOW, OTHERWISE YOU WON'T\n",
        "# BE ABLE TO SEE THE OUTPUT ANY MORE"
      ]
    },
    {
      "cell_type": "code",
      "execution_count": null,
      "metadata": {
        "id": "kJUCak6zrtdW",
        "outputId": "9a1cadb7-d442-4b55-ee60-a53099155e9d"
      },
      "outputs": [
        {
          "data": {
            "text/plain": [
              "array([21, 22, 23, 24, 25])"
            ]
          },
          "execution_count": 46,
          "metadata": {},
          "output_type": "execute_result"
        }
      ],
      "source": [
        ""
      ]
    },
    {
      "cell_type": "code",
      "execution_count": null,
      "metadata": {
        "collapsed": true,
        "id": "OklRZsOwrtdW"
      },
      "outputs": [],
      "source": [
        "# WRITE CODE HERE THAT REPRODUCES THE OUTPUT OF THE CELL BELOW\n",
        "# BE CAREFUL NOT TO RUN THE CELL BELOW, OTHERWISE YOU WON'T\n",
        "# BE ABLE TO SEE THE OUTPUT ANY MORE"
      ]
    },
    {
      "cell_type": "code",
      "execution_count": null,
      "metadata": {
        "id": "4MpvNr4krtdW",
        "outputId": "4330b940-641e-4877-93e0-3bba8dbd27b0"
      },
      "outputs": [
        {
          "data": {
            "text/plain": [
              "array([[16, 17, 18, 19, 20],\n",
              "       [21, 22, 23, 24, 25]])"
            ]
          },
          "execution_count": 49,
          "metadata": {},
          "output_type": "execute_result"
        }
      ],
      "source": [
        ""
      ]
    },
    {
      "cell_type": "markdown",
      "metadata": {
        "id": "5UMEYA6frtdW"
      },
      "source": [
        "**Now do the following**"
      ]
    },
    {
      "cell_type": "markdown",
      "metadata": {
        "id": "fdW2-b0brtdW"
      },
      "source": [
        "**Get the sum of all the values in mat**"
      ]
    },
    {
      "cell_type": "code",
      "execution_count": null,
      "metadata": {
        "id": "jaUj3gaXrtdX",
        "outputId": "e36c8d76-be29-405c-c663-b46e557b7b90"
      },
      "outputs": [
        {
          "data": {
            "text/plain": [
              "325"
            ]
          },
          "execution_count": 50,
          "metadata": {},
          "output_type": "execute_result"
        }
      ],
      "source": [
        ""
      ]
    },
    {
      "cell_type": "markdown",
      "metadata": {
        "id": "xcUC4xdZrtdX"
      },
      "source": [
        "**Get the standard deviation of the values in mat**"
      ]
    },
    {
      "cell_type": "code",
      "execution_count": null,
      "metadata": {
        "id": "kCTXrSd8rtdX",
        "outputId": "0b1f272e-903b-4c5f-cb35-e851b336a43e"
      },
      "outputs": [
        {
          "data": {
            "text/plain": [
              "7.2111025509279782"
            ]
          },
          "execution_count": 51,
          "metadata": {},
          "output_type": "execute_result"
        }
      ],
      "source": [
        ""
      ]
    },
    {
      "cell_type": "markdown",
      "metadata": {
        "id": "hrTVbpflrtdX"
      },
      "source": [
        "**Get the sum of all the columns in mat**"
      ]
    },
    {
      "cell_type": "code",
      "execution_count": null,
      "metadata": {
        "id": "YiEA86n3rtdX",
        "outputId": "0444b857-56b6-45c4-c9da-7dc723ede559"
      },
      "outputs": [
        {
          "data": {
            "text/plain": [
              "array([55, 60, 65, 70, 75])"
            ]
          },
          "execution_count": 53,
          "metadata": {},
          "output_type": "execute_result"
        }
      ],
      "source": [
        ""
      ]
    },
    {
      "cell_type": "markdown",
      "metadata": {
        "id": "owkwpDXK0agN"
      },
      "source": [
        "## **NumPy Exercises - Solutions**\n",
        "\n",
        "\n",
        "\n",
        "\n",
        "Now that we've learned about NumPy let's test your knowledge. We'll start off with a few simple tasks and then you'll be asked some more complicated questions."
      ]
    },
    {
      "cell_type": "markdown",
      "metadata": {
        "id": "wxqU7WQP0agO"
      },
      "source": [
        "**Import NumPy as np**"
      ]
    },
    {
      "cell_type": "code",
      "execution_count": null,
      "metadata": {
        "collapsed": true,
        "id": "8N-VyZlW0agO"
      },
      "outputs": [],
      "source": [
        "import numpy as np"
      ]
    },
    {
      "cell_type": "markdown",
      "metadata": {
        "id": "lXpflD6p0agP"
      },
      "source": [
        "**Create an array of 10 zeros** "
      ]
    },
    {
      "cell_type": "code",
      "execution_count": null,
      "metadata": {
        "id": "tVjFYduS0agP",
        "outputId": "0be271a8-02ac-4d39-ce19-a4d44898bd41"
      },
      "outputs": [
        {
          "data": {
            "text/plain": [
              "array([ 0.,  0.,  0.,  0.,  0.,  0.,  0.,  0.,  0.,  0.])"
            ]
          },
          "execution_count": 2,
          "metadata": {},
          "output_type": "execute_result"
        }
      ],
      "source": [
        "np.zeros(10)"
      ]
    },
    {
      "cell_type": "markdown",
      "metadata": {
        "id": "hAuMWf-F0agQ"
      },
      "source": [
        "**Create an array of 10 ones**"
      ]
    },
    {
      "cell_type": "code",
      "execution_count": null,
      "metadata": {
        "id": "MId1rXD40agR",
        "outputId": "8f1eeb8d-8281-4494-f56a-f01e4f38a5d4"
      },
      "outputs": [
        {
          "data": {
            "text/plain": [
              "array([ 1.,  1.,  1.,  1.,  1.,  1.,  1.,  1.,  1.,  1.])"
            ]
          },
          "execution_count": 3,
          "metadata": {},
          "output_type": "execute_result"
        }
      ],
      "source": [
        "np.ones(10)"
      ]
    },
    {
      "cell_type": "markdown",
      "metadata": {
        "id": "_2JKVkve0agR"
      },
      "source": [
        "**Create an array of 10 fives**"
      ]
    },
    {
      "cell_type": "code",
      "execution_count": null,
      "metadata": {
        "id": "lxLRnhVe0agS",
        "outputId": "7656c415-9067-4749-d370-8e3343e39695"
      },
      "outputs": [
        {
          "data": {
            "text/plain": [
              "array([ 5.,  5.,  5.,  5.,  5.,  5.,  5.,  5.,  5.,  5.])"
            ]
          },
          "execution_count": 4,
          "metadata": {},
          "output_type": "execute_result"
        }
      ],
      "source": [
        "np.ones(10) * 5"
      ]
    },
    {
      "cell_type": "markdown",
      "metadata": {
        "id": "lfzsBwPI0agS"
      },
      "source": [
        "**Create an array of the integers from 10 to 50**"
      ]
    },
    {
      "cell_type": "code",
      "execution_count": null,
      "metadata": {
        "id": "5LOx1DVy0agS",
        "outputId": "10abc003-31c4-4b18-aa2a-6a0cf8a4cec0"
      },
      "outputs": [
        {
          "data": {
            "text/plain": [
              "array([10, 11, 12, 13, 14, 15, 16, 17, 18, 19, 20, 21, 22, 23, 24, 25, 26,\n",
              "       27, 28, 29, 30, 31, 32, 33, 34, 35, 36, 37, 38, 39, 40, 41, 42, 43,\n",
              "       44, 45, 46, 47, 48, 49, 50])"
            ]
          },
          "execution_count": 5,
          "metadata": {},
          "output_type": "execute_result"
        }
      ],
      "source": [
        "np.arange(10,51)"
      ]
    },
    {
      "cell_type": "markdown",
      "metadata": {
        "id": "IUdi7UAf0agT"
      },
      "source": [
        "**Create an array of all the even integers from 10 to 50**"
      ]
    },
    {
      "cell_type": "code",
      "execution_count": null,
      "metadata": {
        "id": "nhGfHVDX0agT",
        "outputId": "59d7167a-05f4-4435-b70f-75752755980e"
      },
      "outputs": [
        {
          "data": {
            "text/plain": [
              "array([10, 12, 14, 16, 18, 20, 22, 24, 26, 28, 30, 32, 34, 36, 38, 40, 42,\n",
              "       44, 46, 48, 50])"
            ]
          },
          "execution_count": 6,
          "metadata": {},
          "output_type": "execute_result"
        }
      ],
      "source": [
        "np.arange(10,51,2)"
      ]
    },
    {
      "cell_type": "markdown",
      "metadata": {
        "id": "FzhpQSd90agT"
      },
      "source": [
        "**Create a 3x3 matrix with values ranging from 0 to 8**"
      ]
    },
    {
      "cell_type": "code",
      "execution_count": null,
      "metadata": {
        "id": "_bmvEtOc0agT",
        "outputId": "9d099438-c960-4e8d-9c96-77fc18315f95"
      },
      "outputs": [
        {
          "data": {
            "text/plain": [
              "array([[0, 1, 2],\n",
              "       [3, 4, 5],\n",
              "       [6, 7, 8]])"
            ]
          },
          "execution_count": 7,
          "metadata": {},
          "output_type": "execute_result"
        }
      ],
      "source": [
        "np.arange(9).reshape(3,3)"
      ]
    },
    {
      "cell_type": "markdown",
      "metadata": {
        "id": "-MAjUCeq0agU"
      },
      "source": [
        "**Create a 3x3 identity matrix**"
      ]
    },
    {
      "cell_type": "code",
      "execution_count": null,
      "metadata": {
        "id": "6uwCSBvj0agU",
        "outputId": "02c115c4-3be7-4424-b7d5-bbbeecc3dca8"
      },
      "outputs": [
        {
          "data": {
            "text/plain": [
              "array([[ 1.,  0.,  0.],\n",
              "       [ 0.,  1.,  0.],\n",
              "       [ 0.,  0.,  1.]])"
            ]
          },
          "execution_count": 8,
          "metadata": {},
          "output_type": "execute_result"
        }
      ],
      "source": [
        "np.eye(3)"
      ]
    },
    {
      "cell_type": "markdown",
      "metadata": {
        "id": "26et2_eV0agU"
      },
      "source": [
        "**Use NumPy to generate a random number between 0 and 1**"
      ]
    },
    {
      "cell_type": "code",
      "execution_count": null,
      "metadata": {
        "id": "B9iMwT7g0agU",
        "outputId": "76dd3592-cad1-45cc-9d67-7941480a9bab"
      },
      "outputs": [
        {
          "data": {
            "text/plain": [
              "array([ 0.42829726])"
            ]
          },
          "execution_count": 15,
          "metadata": {},
          "output_type": "execute_result"
        }
      ],
      "source": [
        "np.random.rand(1)"
      ]
    },
    {
      "cell_type": "markdown",
      "metadata": {
        "id": "JIeLssTU0agV"
      },
      "source": [
        "**Use NumPy to generate an array of 25 random numbers sampled from a standard normal distribution**"
      ]
    },
    {
      "cell_type": "code",
      "execution_count": null,
      "metadata": {
        "id": "GJrpAlxJ0agV",
        "outputId": "1fb52bdd-a3f8-4da7-fc00-41238ed9a4f9"
      },
      "outputs": [
        {
          "data": {
            "text/plain": [
              "array([ 1.32031013,  1.6798602 , -0.42985892, -1.53116655,  0.85753232,\n",
              "        0.87339938,  0.35668636, -1.47491157,  0.15349697,  0.99530727,\n",
              "       -0.94865451, -1.69174783,  1.57525349, -0.70615234,  0.10991879,\n",
              "       -0.49478947,  1.08279872,  0.76488333, -2.3039931 ,  0.35401124,\n",
              "       -0.45454399, -0.64754649, -0.29391671,  0.02339861,  0.38272124])"
            ]
          },
          "execution_count": 33,
          "metadata": {},
          "output_type": "execute_result"
        }
      ],
      "source": [
        "np.random.randn(25)"
      ]
    },
    {
      "cell_type": "markdown",
      "metadata": {
        "id": "QzjGlIrG0agV"
      },
      "source": [
        "**Create the following matrix:**"
      ]
    },
    {
      "cell_type": "code",
      "execution_count": null,
      "metadata": {
        "id": "VWYQWiOh0agV",
        "outputId": "edd6fd6c-4710-4824-cdf7-9ddd637cbba8"
      },
      "outputs": [
        {
          "data": {
            "text/plain": [
              "array([[ 0.01,  0.02,  0.03,  0.04,  0.05,  0.06,  0.07,  0.08,  0.09,  0.1 ],\n",
              "       [ 0.11,  0.12,  0.13,  0.14,  0.15,  0.16,  0.17,  0.18,  0.19,  0.2 ],\n",
              "       [ 0.21,  0.22,  0.23,  0.24,  0.25,  0.26,  0.27,  0.28,  0.29,  0.3 ],\n",
              "       [ 0.31,  0.32,  0.33,  0.34,  0.35,  0.36,  0.37,  0.38,  0.39,  0.4 ],\n",
              "       [ 0.41,  0.42,  0.43,  0.44,  0.45,  0.46,  0.47,  0.48,  0.49,  0.5 ],\n",
              "       [ 0.51,  0.52,  0.53,  0.54,  0.55,  0.56,  0.57,  0.58,  0.59,  0.6 ],\n",
              "       [ 0.61,  0.62,  0.63,  0.64,  0.65,  0.66,  0.67,  0.68,  0.69,  0.7 ],\n",
              "       [ 0.71,  0.72,  0.73,  0.74,  0.75,  0.76,  0.77,  0.78,  0.79,  0.8 ],\n",
              "       [ 0.81,  0.82,  0.83,  0.84,  0.85,  0.86,  0.87,  0.88,  0.89,  0.9 ],\n",
              "       [ 0.91,  0.92,  0.93,  0.94,  0.95,  0.96,  0.97,  0.98,  0.99,  1.  ]])"
            ]
          },
          "execution_count": 35,
          "metadata": {},
          "output_type": "execute_result"
        }
      ],
      "source": [
        "np.arange(1,101).reshape(10,10) / 100"
      ]
    },
    {
      "cell_type": "markdown",
      "metadata": {
        "id": "cSg4dA-40agW"
      },
      "source": [
        "**Create an array of 20 linearly spaced points between 0 and 1:**"
      ]
    },
    {
      "cell_type": "code",
      "execution_count": null,
      "metadata": {
        "id": "hy1pghDD0agW",
        "outputId": "656826cc-3434-48ab-c885-e992dd37f077"
      },
      "outputs": [
        {
          "data": {
            "text/plain": [
              "array([ 0.        ,  0.05263158,  0.10526316,  0.15789474,  0.21052632,\n",
              "        0.26315789,  0.31578947,  0.36842105,  0.42105263,  0.47368421,\n",
              "        0.52631579,  0.57894737,  0.63157895,  0.68421053,  0.73684211,\n",
              "        0.78947368,  0.84210526,  0.89473684,  0.94736842,  1.        ])"
            ]
          },
          "execution_count": 36,
          "metadata": {},
          "output_type": "execute_result"
        }
      ],
      "source": [
        "np.linspace(0,1,20)"
      ]
    },
    {
      "cell_type": "markdown",
      "metadata": {
        "id": "aJjx1QeD0agW"
      },
      "source": [
        "### Numpy Indexing and Selection\n",
        "\n",
        "- Now you will be given a few matrices, and be asked to replicate the resulting matrix outputs:"
      ]
    },
    {
      "cell_type": "code",
      "execution_count": null,
      "metadata": {
        "id": "VZw2fPmn0agW",
        "outputId": "cca92c9a-ec11-4cee-9abf-a8a404204191"
      },
      "outputs": [
        {
          "data": {
            "text/plain": [
              "array([[ 1,  2,  3,  4,  5],\n",
              "       [ 6,  7,  8,  9, 10],\n",
              "       [11, 12, 13, 14, 15],\n",
              "       [16, 17, 18, 19, 20],\n",
              "       [21, 22, 23, 24, 25]])"
            ]
          },
          "execution_count": 38,
          "metadata": {},
          "output_type": "execute_result"
        }
      ],
      "source": [
        "mat = np.arange(1,26).reshape(5,5)\n",
        "mat"
      ]
    },
    {
      "cell_type": "code",
      "execution_count": null,
      "metadata": {
        "collapsed": true,
        "id": "6H_7lLlH0agW"
      },
      "outputs": [],
      "source": [
        "# WRITE CODE HERE THAT REPRODUCES THE OUTPUT OF THE CELL BELOW\n",
        "# BE CAREFUL NOT TO RUN THE CELL BELOW, OTHERWISE YOU WON'T\n",
        "# BE ABLE TO SEE THE OUTPUT ANY MORE"
      ]
    },
    {
      "cell_type": "code",
      "execution_count": null,
      "metadata": {
        "id": "2QPbCJc20agW",
        "outputId": "2576298b-5c03-45b8-a42d-e1b2a2b5a002"
      },
      "outputs": [
        {
          "data": {
            "text/plain": [
              "array([[12, 13, 14, 15],\n",
              "       [17, 18, 19, 20],\n",
              "       [22, 23, 24, 25]])"
            ]
          },
          "execution_count": 40,
          "metadata": {},
          "output_type": "execute_result"
        }
      ],
      "source": [
        "mat[2:,1:]"
      ]
    },
    {
      "cell_type": "code",
      "execution_count": null,
      "metadata": {
        "collapsed": true,
        "id": "RTyEae8B0agX"
      },
      "outputs": [],
      "source": [
        "# WRITE CODE HERE THAT REPRODUCES THE OUTPUT OF THE CELL BELOW\n",
        "# BE CAREFUL NOT TO RUN THE CELL BELOW, OTHERWISE YOU WON'T\n",
        "# BE ABLE TO SEE THE OUTPUT ANY MORE"
      ]
    },
    {
      "cell_type": "code",
      "execution_count": null,
      "metadata": {
        "id": "IZGcr3WO0agX",
        "outputId": "79e71a0f-c5eb-4292-e186-1aa96e2a442b"
      },
      "outputs": [
        {
          "data": {
            "text/plain": [
              "20"
            ]
          },
          "execution_count": 41,
          "metadata": {},
          "output_type": "execute_result"
        }
      ],
      "source": [
        "mat[3,4]"
      ]
    },
    {
      "cell_type": "code",
      "execution_count": null,
      "metadata": {
        "collapsed": true,
        "id": "pvVHaewZ0agX"
      },
      "outputs": [],
      "source": [
        "# WRITE CODE HERE THAT REPRODUCES THE OUTPUT OF THE CELL BELOW\n",
        "# BE CAREFUL NOT TO RUN THE CELL BELOW, OTHERWISE YOU WON'T\n",
        "# BE ABLE TO SEE THE OUTPUT ANY MORE"
      ]
    },
    {
      "cell_type": "code",
      "execution_count": null,
      "metadata": {
        "id": "6DdxRLrS0agX",
        "outputId": "61d5aa0b-7bf3-48d3-906f-8b1e8d369403"
      },
      "outputs": [
        {
          "data": {
            "text/plain": [
              "array([[ 2],\n",
              "       [ 7],\n",
              "       [12]])"
            ]
          },
          "execution_count": 42,
          "metadata": {},
          "output_type": "execute_result"
        }
      ],
      "source": [
        "mat[:3,1:2]"
      ]
    },
    {
      "cell_type": "code",
      "execution_count": null,
      "metadata": {
        "collapsed": true,
        "id": "ye-F6GHX0agX"
      },
      "outputs": [],
      "source": [
        "# WRITE CODE HERE THAT REPRODUCES THE OUTPUT OF THE CELL BELOW\n",
        "# BE CAREFUL NOT TO RUN THE CELL BELOW, OTHERWISE YOU WON'T\n",
        "# BE ABLE TO SEE THE OUTPUT ANY MORE"
      ]
    },
    {
      "cell_type": "code",
      "execution_count": null,
      "metadata": {
        "id": "jI0Bg5Hm0agY",
        "outputId": "39572a12-13e9-4d07-a770-f80864686eee"
      },
      "outputs": [
        {
          "data": {
            "text/plain": [
              "array([21, 22, 23, 24, 25])"
            ]
          },
          "execution_count": 46,
          "metadata": {},
          "output_type": "execute_result"
        }
      ],
      "source": [
        "mat[4,:]"
      ]
    },
    {
      "cell_type": "code",
      "execution_count": null,
      "metadata": {
        "collapsed": true,
        "id": "PZOdUNfe0agY"
      },
      "outputs": [],
      "source": [
        "# WRITE CODE HERE THAT REPRODUCES THE OUTPUT OF THE CELL BELOW\n",
        "# BE CAREFUL NOT TO RUN THE CELL BELOW, OTHERWISE YOU WON'T\n",
        "# BE ABLE TO SEE THE OUTPUT ANY MORE"
      ]
    },
    {
      "cell_type": "code",
      "execution_count": null,
      "metadata": {
        "id": "xtmr4aF10agY",
        "outputId": "4f1cea3f-078b-464c-b7e1-17ef8bb5aad2"
      },
      "outputs": [
        {
          "data": {
            "text/plain": [
              "array([[16, 17, 18, 19, 20],\n",
              "       [21, 22, 23, 24, 25]])"
            ]
          },
          "execution_count": 49,
          "metadata": {},
          "output_type": "execute_result"
        }
      ],
      "source": [
        "mat[3:5,:]"
      ]
    },
    {
      "cell_type": "markdown",
      "metadata": {
        "id": "0U0pEdWH0agY"
      },
      "source": [
        "**Now do the following**"
      ]
    },
    {
      "cell_type": "markdown",
      "metadata": {
        "id": "Z2SDKLmI0agY"
      },
      "source": [
        "**Get the sum of all the values in mat**"
      ]
    },
    {
      "cell_type": "code",
      "execution_count": null,
      "metadata": {
        "id": "B6odYgHf0agY",
        "outputId": "cb2e9bea-626d-429a-bea5-9cfbbb6af809"
      },
      "outputs": [
        {
          "data": {
            "text/plain": [
              "325"
            ]
          },
          "execution_count": 50,
          "metadata": {},
          "output_type": "execute_result"
        }
      ],
      "source": [
        "mat.sum()"
      ]
    },
    {
      "cell_type": "markdown",
      "metadata": {
        "id": "qmOHF8aW0agY"
      },
      "source": [
        "**Get the standard deviation of the values in mat**"
      ]
    },
    {
      "cell_type": "code",
      "execution_count": null,
      "metadata": {
        "id": "9fbtiZhA0agZ",
        "outputId": "e455948d-9024-4b55-c82f-7de5fb279a6e"
      },
      "outputs": [
        {
          "data": {
            "text/plain": [
              "7.2111025509279782"
            ]
          },
          "execution_count": 51,
          "metadata": {},
          "output_type": "execute_result"
        }
      ],
      "source": [
        "mat.std()"
      ]
    },
    {
      "cell_type": "markdown",
      "metadata": {
        "id": "xGbFLhxe0agZ"
      },
      "source": [
        "**Get the sum of all the columns in mat**"
      ]
    },
    {
      "cell_type": "code",
      "execution_count": null,
      "metadata": {
        "id": "bDaTVKIh0agZ",
        "outputId": "41f240aa-95c7-4ba7-e012-d6fd208d6816"
      },
      "outputs": [
        {
          "data": {
            "text/plain": [
              "array([55, 60, 65, 70, 75])"
            ]
          },
          "execution_count": 53,
          "metadata": {},
          "output_type": "execute_result"
        }
      ],
      "source": [
        "mat.sum(axis=0)"
      ]
    }
  ]
}